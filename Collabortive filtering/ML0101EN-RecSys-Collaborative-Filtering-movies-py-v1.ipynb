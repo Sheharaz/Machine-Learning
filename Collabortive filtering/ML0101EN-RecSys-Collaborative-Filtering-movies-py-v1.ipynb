{
 "cells": [
  {
   "cell_type": "markdown",
   "metadata": {
    "button": false,
    "new_sheet": false,
    "run_control": {
     "read_only": false
    }
   },
   "source": [
    "<center>\n",
    "    <img src=\"https://s3-api.us-geo.objectstorage.softlayer.net/cf-courses-data/CognitiveClass/Logos/organization_logo/organization_logo.png\" width=\"300\" alt=\"cognitiveclass.ai logo\"  />\n",
    "</center>\n",
    "\n",
    "# Collaborative Filtering\n",
    "\n",
    "Estimated time needed: **25** minutes\n",
    "\n",
    "## Objectives\n",
    "\n",
    "After completing this lab you will be able to:\n",
    "\n",
    "-   Create recommendation system based on collaborative filtering\n"
   ]
  },
  {
   "cell_type": "markdown",
   "metadata": {
    "button": false,
    "new_sheet": false,
    "run_control": {
     "read_only": false
    }
   },
   "source": [
    "Recommendation systems are a collection of algorithms used to recommend items to users based on information taken from the user. These systems have become ubiquitous can be commonly seen in online stores, movies databases and job finders. In this notebook, we will explore recommendation systems based on Collaborative Filtering and implement simple version of one using Python and the Pandas library.\n"
   ]
  },
  {
   "cell_type": "markdown",
   "metadata": {
    "button": false,
    "new_sheet": false,
    "run_control": {
     "read_only": false
    }
   },
   "source": [
    "<h1>Table of contents</h1>\n",
    "\n",
    "<div class=\"alert alert-block alert-info\" style=\"margin-top: 20px\">\n",
    "    <ol>\n",
    "        <li><a href=\"#ref1\">Acquiring the Data</a></li>\n",
    "        <li><a href=\"#ref2\">Preprocessing</a></li>\n",
    "        <li><a href=\"#ref3\">Collaborative Filtering</a></li>\n",
    "    </ol>\n",
    "</div>\n",
    "<br>\n",
    "<hr>\n"
   ]
  },
  {
   "cell_type": "markdown",
   "metadata": {
    "button": false,
    "new_sheet": false,
    "run_control": {
     "read_only": false
    }
   },
   "source": [
    "<a id=\"ref1\"></a>\n",
    "\n",
    "# Acquiring the Data\n"
   ]
  },
  {
   "cell_type": "markdown",
   "metadata": {
    "button": false,
    "new_sheet": false,
    "run_control": {
     "read_only": false
    }
   },
   "source": [
    "To acquire and extract the data, simply run the following Bash scripts:  \n",
    "Dataset acquired from [GroupLens](http://grouplens.org/datasets/movielens?cm_mmc=Email_Newsletter-_-Developer_Ed%2BTech-_-WW_WW-_-SkillsNetwork-Courses-IBMDeveloperSkillsNetwork-ML0101EN-SkillsNetwork-20718538&cm_mmca1=000026UJ&cm_mmca2=10006555&cm_mmca3=M12345678&cvosrc=email.Newsletter.M12345678&cvo_campaign=000026UJ&cm_mmc=Email_Newsletter-_-Developer_Ed%2BTech-_-WW_WW-_-SkillsNetwork-Courses-IBMDeveloperSkillsNetwork-ML0101EN-SkillsNetwork-20718538&cm_mmca1=000026UJ&cm_mmca2=10006555&cm_mmca3=M12345678&cvosrc=email.Newsletter.M12345678&cvo_campaign=000026UJ&cm_mmc=Email_Newsletter-_-Developer_Ed%2BTech-_-WW_WW-_-SkillsNetwork-Courses-IBMDeveloperSkillsNetwork-ML0101EN-SkillsNetwork-20718538&cm_mmca1=000026UJ&cm_mmca2=10006555&cm_mmca3=M12345678&cvosrc=email.Newsletter.M12345678&cvo_campaign=000026UJ&cm_mmc=Email_Newsletter-_-Developer_Ed%2BTech-_-WW_WW-_-SkillsNetwork-Courses-IBMDeveloperSkillsNetwork-ML0101EN-SkillsNetwork-20718538&cm_mmca1=000026UJ&cm_mmca2=10006555&cm_mmca3=M12345678&cvosrc=email.Newsletter.M12345678&cvo_campaign=000026UJ). Lets download the dataset. To download the data, we will use **`!wget`** to download it from IBM Object Storage.  \n",
    "**Did you know?** When it comes to Machine Learning, you will likely be working with large datasets. As a business, where can you host your data? IBM is offering a unique opportunity for businesses, with 10 Tb of IBM Cloud Object Storage: [Sign up now for free](http://cocl.us/ML0101EN-IBM-Offer-CC)\n"
   ]
  },
  {
   "cell_type": "code",
   "execution_count": 1,
   "metadata": {
    "button": false,
    "new_sheet": false,
    "run_control": {
     "read_only": false
    }
   },
   "outputs": [
    {
     "name": "stdout",
     "output_type": "stream",
     "text": [
      "--2020-11-17 19:29:56--  https://cf-courses-data.s3.us.cloud-object-storage.appdomain.cloud/IBMDeveloperSkillsNetwork-ML0101EN-SkillsNetwork/labs/Module%205/data/moviedataset.zip\n",
      "Resolving cf-courses-data.s3.us.cloud-object-storage.appdomain.cloud (cf-courses-data.s3.us.cloud-object-storage.appdomain.cloud)... 67.228.254.196\n",
      "Connecting to cf-courses-data.s3.us.cloud-object-storage.appdomain.cloud (cf-courses-data.s3.us.cloud-object-storage.appdomain.cloud)|67.228.254.196|:443... connected.\n",
      "HTTP request sent, awaiting response... 200 OK\n",
      "Length: 160301210 (153M) [application/zip]\n",
      "Saving to: ‘moviedataset.zip’\n",
      "\n",
      "moviedataset.zip    100%[===================>] 152.88M  22.5MB/s    in 7.6s    \n",
      "\n",
      "2020-11-17 19:30:04 (20.2 MB/s) - ‘moviedataset.zip’ saved [160301210/160301210]\n",
      "\n",
      "unziping ...\n",
      "Archive:  moviedataset.zip\n",
      "  inflating: links.csv               \n",
      "  inflating: movies.csv              \n",
      "  inflating: ratings.csv             \n",
      "  inflating: README.txt              \n",
      "  inflating: tags.csv                \n"
     ]
    }
   ],
   "source": [
    "!wget -O moviedataset.zip https://cf-courses-data.s3.us.cloud-object-storage.appdomain.cloud/IBMDeveloperSkillsNetwork-ML0101EN-SkillsNetwork/labs/Module%205/data/moviedataset.zip\n",
    "print('unziping ...')\n",
    "!unzip -o -j moviedataset.zip "
   ]
  },
  {
   "cell_type": "markdown",
   "metadata": {
    "button": false,
    "new_sheet": false,
    "run_control": {
     "read_only": false
    }
   },
   "source": [
    "Now you're ready to start working with the data!\n"
   ]
  },
  {
   "cell_type": "markdown",
   "metadata": {
    "button": false,
    "new_sheet": false,
    "run_control": {
     "read_only": false
    }
   },
   "source": [
    "<hr>\n",
    "\n",
    "<a id=\"ref2\"></a>\n",
    "\n",
    "# Preprocessing\n"
   ]
  },
  {
   "cell_type": "markdown",
   "metadata": {
    "button": false,
    "new_sheet": false,
    "run_control": {
     "read_only": false
    }
   },
   "source": [
    "First, let's get all of the imports out of the way:\n"
   ]
  },
  {
   "cell_type": "code",
   "execution_count": 2,
   "metadata": {
    "button": false,
    "new_sheet": false,
    "run_control": {
     "read_only": false
    }
   },
   "outputs": [],
   "source": [
    "#Dataframe manipulation library\n",
    "import pandas as pd\n",
    "#Math functions, we'll only need the sqrt function so let's import only that\n",
    "from math import sqrt\n",
    "import numpy as np\n",
    "import matplotlib.pyplot as plt\n",
    "%matplotlib inline"
   ]
  },
  {
   "cell_type": "markdown",
   "metadata": {
    "button": false,
    "new_sheet": false,
    "run_control": {
     "read_only": false
    }
   },
   "source": [
    "Now let's read each file into their Dataframes:\n"
   ]
  },
  {
   "cell_type": "code",
   "execution_count": 3,
   "metadata": {
    "button": false,
    "new_sheet": false,
    "run_control": {
     "read_only": false
    }
   },
   "outputs": [],
   "source": [
    "#Storing the movie information into a pandas dataframe\n",
    "movies_df = pd.read_csv('movies.csv')\n",
    "#Storing the user information into a pandas dataframe\n",
    "ratings_df = pd.read_csv('ratings.csv')"
   ]
  },
  {
   "cell_type": "markdown",
   "metadata": {
    "button": false,
    "new_sheet": false,
    "run_control": {
     "read_only": false
    }
   },
   "source": [
    "Let's also take a peek at how each of them are organized:\n"
   ]
  },
  {
   "cell_type": "code",
   "execution_count": 4,
   "metadata": {
    "button": false,
    "new_sheet": false,
    "run_control": {
     "read_only": false
    }
   },
   "outputs": [
    {
     "data": {
      "text/html": [
       "<div>\n",
       "<style scoped>\n",
       "    .dataframe tbody tr th:only-of-type {\n",
       "        vertical-align: middle;\n",
       "    }\n",
       "\n",
       "    .dataframe tbody tr th {\n",
       "        vertical-align: top;\n",
       "    }\n",
       "\n",
       "    .dataframe thead th {\n",
       "        text-align: right;\n",
       "    }\n",
       "</style>\n",
       "<table border=\"1\" class=\"dataframe\">\n",
       "  <thead>\n",
       "    <tr style=\"text-align: right;\">\n",
       "      <th></th>\n",
       "      <th>movieId</th>\n",
       "      <th>title</th>\n",
       "      <th>genres</th>\n",
       "    </tr>\n",
       "  </thead>\n",
       "  <tbody>\n",
       "    <tr>\n",
       "      <th>0</th>\n",
       "      <td>1</td>\n",
       "      <td>Toy Story (1995)</td>\n",
       "      <td>Adventure|Animation|Children|Comedy|Fantasy</td>\n",
       "    </tr>\n",
       "    <tr>\n",
       "      <th>1</th>\n",
       "      <td>2</td>\n",
       "      <td>Jumanji (1995)</td>\n",
       "      <td>Adventure|Children|Fantasy</td>\n",
       "    </tr>\n",
       "    <tr>\n",
       "      <th>2</th>\n",
       "      <td>3</td>\n",
       "      <td>Grumpier Old Men (1995)</td>\n",
       "      <td>Comedy|Romance</td>\n",
       "    </tr>\n",
       "    <tr>\n",
       "      <th>3</th>\n",
       "      <td>4</td>\n",
       "      <td>Waiting to Exhale (1995)</td>\n",
       "      <td>Comedy|Drama|Romance</td>\n",
       "    </tr>\n",
       "    <tr>\n",
       "      <th>4</th>\n",
       "      <td>5</td>\n",
       "      <td>Father of the Bride Part II (1995)</td>\n",
       "      <td>Comedy</td>\n",
       "    </tr>\n",
       "  </tbody>\n",
       "</table>\n",
       "</div>"
      ],
      "text/plain": [
       "   movieId                               title  \\\n",
       "0        1                    Toy Story (1995)   \n",
       "1        2                      Jumanji (1995)   \n",
       "2        3             Grumpier Old Men (1995)   \n",
       "3        4            Waiting to Exhale (1995)   \n",
       "4        5  Father of the Bride Part II (1995)   \n",
       "\n",
       "                                        genres  \n",
       "0  Adventure|Animation|Children|Comedy|Fantasy  \n",
       "1                   Adventure|Children|Fantasy  \n",
       "2                               Comedy|Romance  \n",
       "3                         Comedy|Drama|Romance  \n",
       "4                                       Comedy  "
      ]
     },
     "execution_count": 4,
     "metadata": {},
     "output_type": "execute_result"
    }
   ],
   "source": [
    "#Head is a function that gets the first N rows of a dataframe. N's default is 5.\n",
    "movies_df.head()"
   ]
  },
  {
   "cell_type": "markdown",
   "metadata": {
    "button": false,
    "new_sheet": false,
    "run_control": {
     "read_only": false
    }
   },
   "source": [
    "So each movie has a unique ID, a title with its release year along with it (Which may contain unicode characters) and several different genres in the same field. Let's remove the year from the title column and place it into its own one by using the handy [extract](http://pandas.pydata.org/pandas-docs/stable/generated/pandas.Series.str.extract.html#pandas.Series.str.extract?cm_mmc=Email_Newsletter-_-Developer_Ed%2BTech-_-WW_WW-_-SkillsNetwork-Courses-IBMDeveloperSkillsNetwork-ML0101EN-SkillsNetwork-20718538&cm_mmca1=000026UJ&cm_mmca2=10006555&cm_mmca3=M12345678&cvosrc=email.Newsletter.M12345678&cvo_campaign=000026UJ&cm_mmc=Email_Newsletter-_-Developer_Ed%2BTech-_-WW_WW-_-SkillsNetwork-Courses-IBMDeveloperSkillsNetwork-ML0101EN-SkillsNetwork-20718538&cm_mmca1=000026UJ&cm_mmca2=10006555&cm_mmca3=M12345678&cvosrc=email.Newsletter.M12345678&cvo_campaign=000026UJ) function that Pandas has.\n"
   ]
  },
  {
   "cell_type": "markdown",
   "metadata": {
    "button": false,
    "new_sheet": false,
    "run_control": {
     "read_only": false
    }
   },
   "source": [
    "Let's remove the year from the **title** column by using pandas' replace function and store in a new **year** column.\n"
   ]
  },
  {
   "cell_type": "code",
   "execution_count": 5,
   "metadata": {
    "button": false,
    "new_sheet": false,
    "run_control": {
     "read_only": false
    }
   },
   "outputs": [],
   "source": [
    "#Using regular expressions to find a year stored between parentheses\n",
    "#We specify the parantheses so we don't conflict with movies that have years in their titles\n",
    "movies_df['year'] = movies_df.title.str.extract('(\\(\\d\\d\\d\\d\\))',expand=False)\n",
    "#Removing the parentheses\n",
    "movies_df['year'] = movies_df.year.str.extract('(\\d\\d\\d\\d)',expand=False)\n",
    "#Removing the years from the 'title' column\n",
    "movies_df['title'] = movies_df.title.str.replace('(\\(\\d\\d\\d\\d\\))', '')\n",
    "#Applying the strip function to get rid of any ending whitespace characters that may have appeared\n",
    "movies_df['title'] = movies_df['title'].apply(lambda x: x.strip())"
   ]
  },
  {
   "cell_type": "markdown",
   "metadata": {
    "button": false,
    "new_sheet": false,
    "run_control": {
     "read_only": false
    }
   },
   "source": [
    "Let's look at the result!\n"
   ]
  },
  {
   "cell_type": "code",
   "execution_count": 6,
   "metadata": {
    "button": false,
    "new_sheet": false,
    "run_control": {
     "read_only": false
    }
   },
   "outputs": [
    {
     "data": {
      "text/html": [
       "<div>\n",
       "<style scoped>\n",
       "    .dataframe tbody tr th:only-of-type {\n",
       "        vertical-align: middle;\n",
       "    }\n",
       "\n",
       "    .dataframe tbody tr th {\n",
       "        vertical-align: top;\n",
       "    }\n",
       "\n",
       "    .dataframe thead th {\n",
       "        text-align: right;\n",
       "    }\n",
       "</style>\n",
       "<table border=\"1\" class=\"dataframe\">\n",
       "  <thead>\n",
       "    <tr style=\"text-align: right;\">\n",
       "      <th></th>\n",
       "      <th>movieId</th>\n",
       "      <th>title</th>\n",
       "      <th>genres</th>\n",
       "      <th>year</th>\n",
       "    </tr>\n",
       "  </thead>\n",
       "  <tbody>\n",
       "    <tr>\n",
       "      <th>0</th>\n",
       "      <td>1</td>\n",
       "      <td>Toy Story</td>\n",
       "      <td>Adventure|Animation|Children|Comedy|Fantasy</td>\n",
       "      <td>1995</td>\n",
       "    </tr>\n",
       "    <tr>\n",
       "      <th>1</th>\n",
       "      <td>2</td>\n",
       "      <td>Jumanji</td>\n",
       "      <td>Adventure|Children|Fantasy</td>\n",
       "      <td>1995</td>\n",
       "    </tr>\n",
       "    <tr>\n",
       "      <th>2</th>\n",
       "      <td>3</td>\n",
       "      <td>Grumpier Old Men</td>\n",
       "      <td>Comedy|Romance</td>\n",
       "      <td>1995</td>\n",
       "    </tr>\n",
       "    <tr>\n",
       "      <th>3</th>\n",
       "      <td>4</td>\n",
       "      <td>Waiting to Exhale</td>\n",
       "      <td>Comedy|Drama|Romance</td>\n",
       "      <td>1995</td>\n",
       "    </tr>\n",
       "    <tr>\n",
       "      <th>4</th>\n",
       "      <td>5</td>\n",
       "      <td>Father of the Bride Part II</td>\n",
       "      <td>Comedy</td>\n",
       "      <td>1995</td>\n",
       "    </tr>\n",
       "  </tbody>\n",
       "</table>\n",
       "</div>"
      ],
      "text/plain": [
       "   movieId                        title  \\\n",
       "0        1                    Toy Story   \n",
       "1        2                      Jumanji   \n",
       "2        3             Grumpier Old Men   \n",
       "3        4            Waiting to Exhale   \n",
       "4        5  Father of the Bride Part II   \n",
       "\n",
       "                                        genres  year  \n",
       "0  Adventure|Animation|Children|Comedy|Fantasy  1995  \n",
       "1                   Adventure|Children|Fantasy  1995  \n",
       "2                               Comedy|Romance  1995  \n",
       "3                         Comedy|Drama|Romance  1995  \n",
       "4                                       Comedy  1995  "
      ]
     },
     "execution_count": 6,
     "metadata": {},
     "output_type": "execute_result"
    }
   ],
   "source": [
    "movies_df.head()"
   ]
  },
  {
   "cell_type": "markdown",
   "metadata": {
    "button": false,
    "new_sheet": false,
    "run_control": {
     "read_only": false
    }
   },
   "source": [
    "With that, let's also drop the genres column since we won't need it for this particular recommendation system.\n"
   ]
  },
  {
   "cell_type": "code",
   "execution_count": 7,
   "metadata": {
    "button": false,
    "new_sheet": false,
    "run_control": {
     "read_only": false
    }
   },
   "outputs": [],
   "source": [
    "#Dropping the genres column\n",
    "movies_df = movies_df.drop('genres', 1)"
   ]
  },
  {
   "cell_type": "markdown",
   "metadata": {
    "button": false,
    "new_sheet": false,
    "run_control": {
     "read_only": false
    }
   },
   "source": [
    "Here's the final movies dataframe:\n"
   ]
  },
  {
   "cell_type": "code",
   "execution_count": 8,
   "metadata": {
    "button": false,
    "new_sheet": false,
    "run_control": {
     "read_only": false
    }
   },
   "outputs": [
    {
     "data": {
      "text/html": [
       "<div>\n",
       "<style scoped>\n",
       "    .dataframe tbody tr th:only-of-type {\n",
       "        vertical-align: middle;\n",
       "    }\n",
       "\n",
       "    .dataframe tbody tr th {\n",
       "        vertical-align: top;\n",
       "    }\n",
       "\n",
       "    .dataframe thead th {\n",
       "        text-align: right;\n",
       "    }\n",
       "</style>\n",
       "<table border=\"1\" class=\"dataframe\">\n",
       "  <thead>\n",
       "    <tr style=\"text-align: right;\">\n",
       "      <th></th>\n",
       "      <th>movieId</th>\n",
       "      <th>title</th>\n",
       "      <th>year</th>\n",
       "    </tr>\n",
       "  </thead>\n",
       "  <tbody>\n",
       "    <tr>\n",
       "      <th>0</th>\n",
       "      <td>1</td>\n",
       "      <td>Toy Story</td>\n",
       "      <td>1995</td>\n",
       "    </tr>\n",
       "    <tr>\n",
       "      <th>1</th>\n",
       "      <td>2</td>\n",
       "      <td>Jumanji</td>\n",
       "      <td>1995</td>\n",
       "    </tr>\n",
       "    <tr>\n",
       "      <th>2</th>\n",
       "      <td>3</td>\n",
       "      <td>Grumpier Old Men</td>\n",
       "      <td>1995</td>\n",
       "    </tr>\n",
       "    <tr>\n",
       "      <th>3</th>\n",
       "      <td>4</td>\n",
       "      <td>Waiting to Exhale</td>\n",
       "      <td>1995</td>\n",
       "    </tr>\n",
       "    <tr>\n",
       "      <th>4</th>\n",
       "      <td>5</td>\n",
       "      <td>Father of the Bride Part II</td>\n",
       "      <td>1995</td>\n",
       "    </tr>\n",
       "  </tbody>\n",
       "</table>\n",
       "</div>"
      ],
      "text/plain": [
       "   movieId                        title  year\n",
       "0        1                    Toy Story  1995\n",
       "1        2                      Jumanji  1995\n",
       "2        3             Grumpier Old Men  1995\n",
       "3        4            Waiting to Exhale  1995\n",
       "4        5  Father of the Bride Part II  1995"
      ]
     },
     "execution_count": 8,
     "metadata": {},
     "output_type": "execute_result"
    }
   ],
   "source": [
    "movies_df.head()"
   ]
  },
  {
   "cell_type": "markdown",
   "metadata": {
    "button": false,
    "new_sheet": false,
    "run_control": {
     "read_only": false
    }
   },
   "source": [
    "<br>\n"
   ]
  },
  {
   "cell_type": "markdown",
   "metadata": {
    "button": false,
    "new_sheet": false,
    "run_control": {
     "read_only": false
    }
   },
   "source": [
    "Next, let's look at the ratings dataframe.\n"
   ]
  },
  {
   "cell_type": "code",
   "execution_count": 9,
   "metadata": {
    "button": false,
    "new_sheet": false,
    "run_control": {
     "read_only": false
    }
   },
   "outputs": [
    {
     "data": {
      "text/html": [
       "<div>\n",
       "<style scoped>\n",
       "    .dataframe tbody tr th:only-of-type {\n",
       "        vertical-align: middle;\n",
       "    }\n",
       "\n",
       "    .dataframe tbody tr th {\n",
       "        vertical-align: top;\n",
       "    }\n",
       "\n",
       "    .dataframe thead th {\n",
       "        text-align: right;\n",
       "    }\n",
       "</style>\n",
       "<table border=\"1\" class=\"dataframe\">\n",
       "  <thead>\n",
       "    <tr style=\"text-align: right;\">\n",
       "      <th></th>\n",
       "      <th>userId</th>\n",
       "      <th>movieId</th>\n",
       "      <th>rating</th>\n",
       "      <th>timestamp</th>\n",
       "    </tr>\n",
       "  </thead>\n",
       "  <tbody>\n",
       "    <tr>\n",
       "      <th>0</th>\n",
       "      <td>1</td>\n",
       "      <td>169</td>\n",
       "      <td>2.5</td>\n",
       "      <td>1204927694</td>\n",
       "    </tr>\n",
       "    <tr>\n",
       "      <th>1</th>\n",
       "      <td>1</td>\n",
       "      <td>2471</td>\n",
       "      <td>3.0</td>\n",
       "      <td>1204927438</td>\n",
       "    </tr>\n",
       "    <tr>\n",
       "      <th>2</th>\n",
       "      <td>1</td>\n",
       "      <td>48516</td>\n",
       "      <td>5.0</td>\n",
       "      <td>1204927435</td>\n",
       "    </tr>\n",
       "    <tr>\n",
       "      <th>3</th>\n",
       "      <td>2</td>\n",
       "      <td>2571</td>\n",
       "      <td>3.5</td>\n",
       "      <td>1436165433</td>\n",
       "    </tr>\n",
       "    <tr>\n",
       "      <th>4</th>\n",
       "      <td>2</td>\n",
       "      <td>109487</td>\n",
       "      <td>4.0</td>\n",
       "      <td>1436165496</td>\n",
       "    </tr>\n",
       "  </tbody>\n",
       "</table>\n",
       "</div>"
      ],
      "text/plain": [
       "   userId  movieId  rating   timestamp\n",
       "0       1      169     2.5  1204927694\n",
       "1       1     2471     3.0  1204927438\n",
       "2       1    48516     5.0  1204927435\n",
       "3       2     2571     3.5  1436165433\n",
       "4       2   109487     4.0  1436165496"
      ]
     },
     "execution_count": 9,
     "metadata": {},
     "output_type": "execute_result"
    }
   ],
   "source": [
    "ratings_df.head()"
   ]
  },
  {
   "cell_type": "markdown",
   "metadata": {
    "button": false,
    "new_sheet": false,
    "run_control": {
     "read_only": false
    }
   },
   "source": [
    "Every row in the ratings dataframe has a user id associated with at least one movie, a rating and a timestamp showing when they reviewed it. We won't be needing the timestamp column, so let's drop it to save on memory.\n"
   ]
  },
  {
   "cell_type": "code",
   "execution_count": 11,
   "metadata": {
    "button": false,
    "new_sheet": false,
    "run_control": {
     "read_only": false
    }
   },
   "outputs": [],
   "source": [
    "#Drop removes a specified row or column from a dataframe\n",
    "ratings_df = ratings_df.drop('timestamp', 1)"
   ]
  },
  {
   "cell_type": "markdown",
   "metadata": {
    "button": false,
    "new_sheet": false,
    "run_control": {
     "read_only": false
    }
   },
   "source": [
    "Here's how the final ratings Dataframe looks like:\n"
   ]
  },
  {
   "cell_type": "code",
   "execution_count": 12,
   "metadata": {
    "button": false,
    "new_sheet": false,
    "run_control": {
     "read_only": false
    },
    "scrolled": true
   },
   "outputs": [
    {
     "data": {
      "text/html": [
       "<div>\n",
       "<style scoped>\n",
       "    .dataframe tbody tr th:only-of-type {\n",
       "        vertical-align: middle;\n",
       "    }\n",
       "\n",
       "    .dataframe tbody tr th {\n",
       "        vertical-align: top;\n",
       "    }\n",
       "\n",
       "    .dataframe thead th {\n",
       "        text-align: right;\n",
       "    }\n",
       "</style>\n",
       "<table border=\"1\" class=\"dataframe\">\n",
       "  <thead>\n",
       "    <tr style=\"text-align: right;\">\n",
       "      <th></th>\n",
       "      <th>userId</th>\n",
       "      <th>movieId</th>\n",
       "      <th>rating</th>\n",
       "    </tr>\n",
       "  </thead>\n",
       "  <tbody>\n",
       "    <tr>\n",
       "      <th>0</th>\n",
       "      <td>1</td>\n",
       "      <td>169</td>\n",
       "      <td>2.5</td>\n",
       "    </tr>\n",
       "    <tr>\n",
       "      <th>1</th>\n",
       "      <td>1</td>\n",
       "      <td>2471</td>\n",
       "      <td>3.0</td>\n",
       "    </tr>\n",
       "    <tr>\n",
       "      <th>2</th>\n",
       "      <td>1</td>\n",
       "      <td>48516</td>\n",
       "      <td>5.0</td>\n",
       "    </tr>\n",
       "    <tr>\n",
       "      <th>3</th>\n",
       "      <td>2</td>\n",
       "      <td>2571</td>\n",
       "      <td>3.5</td>\n",
       "    </tr>\n",
       "    <tr>\n",
       "      <th>4</th>\n",
       "      <td>2</td>\n",
       "      <td>109487</td>\n",
       "      <td>4.0</td>\n",
       "    </tr>\n",
       "  </tbody>\n",
       "</table>\n",
       "</div>"
      ],
      "text/plain": [
       "   userId  movieId  rating\n",
       "0       1      169     2.5\n",
       "1       1     2471     3.0\n",
       "2       1    48516     5.0\n",
       "3       2     2571     3.5\n",
       "4       2   109487     4.0"
      ]
     },
     "execution_count": 12,
     "metadata": {},
     "output_type": "execute_result"
    }
   ],
   "source": [
    "ratings_df.head()"
   ]
  },
  {
   "cell_type": "markdown",
   "metadata": {
    "button": false,
    "new_sheet": false,
    "run_control": {
     "read_only": false
    }
   },
   "source": [
    "<hr>\n",
    "\n",
    "<a id=\"ref3\"></a>\n",
    "\n",
    "# Collaborative Filtering\n"
   ]
  },
  {
   "cell_type": "markdown",
   "metadata": {
    "button": false,
    "new_sheet": false,
    "run_control": {
     "read_only": false
    }
   },
   "source": [
    "Now, time to start our work on recommendation systems. \n",
    "\n",
    "The first technique we're going to take a look at is called **Collaborative Filtering**, which is also known as **User-User Filtering**. As hinted by its alternate name, this technique uses other users to recommend items to the input user. It attempts to find users that have similar preferences and opinions as the input and then recommends items that they have liked to the input. There are several methods of finding similar users (Even some making use of Machine Learning), and the one we will be using here is going to be based on the **Pearson Correlation Function**.\n",
    "\n",
    "<img src=\"https://cf-courses-data.s3.us.cloud-object-storage.appdomain.cloud/IBMDeveloperSkillsNetwork-ML0101EN-SkillsNetwork/labs/Module%205/images/User_Item.png\" width=800px>\n",
    "\n",
    "The process for creating a User Based recommendation system is as follows:\n",
    "\n",
    "-   Select a user with the movies the user has watched\n",
    "-   Based on his rating to movies, find the top X neighbours \n",
    "-   Get the watched movie record of the user for each neighbour.\n",
    "-   Calculate a similarity score using some formula\n",
    "-   Recommend the items with the highest score\n",
    "\n",
    "Let's begin by creating an input user to recommend movies to:\n",
    "\n",
    "Notice: To add more movies, simply increase the amount of elements in the userInput. Feel free to add more in! Just be sure to write it in with capital letters and if a movie starts with a \"The\", like \"The Matrix\" then write it in like this: 'Matrix, The' .\n"
   ]
  },
  {
   "cell_type": "code",
   "execution_count": 36,
   "metadata": {
    "button": false,
    "new_sheet": false,
    "run_control": {
     "read_only": false
    }
   },
   "outputs": [
    {
     "data": {
      "text/html": [
       "<div>\n",
       "<style scoped>\n",
       "    .dataframe tbody tr th:only-of-type {\n",
       "        vertical-align: middle;\n",
       "    }\n",
       "\n",
       "    .dataframe tbody tr th {\n",
       "        vertical-align: top;\n",
       "    }\n",
       "\n",
       "    .dataframe thead th {\n",
       "        text-align: right;\n",
       "    }\n",
       "</style>\n",
       "<table border=\"1\" class=\"dataframe\">\n",
       "  <thead>\n",
       "    <tr style=\"text-align: right;\">\n",
       "      <th></th>\n",
       "      <th>title</th>\n",
       "      <th>rating</th>\n",
       "    </tr>\n",
       "  </thead>\n",
       "  <tbody>\n",
       "    <tr>\n",
       "      <th>0</th>\n",
       "      <td>Jumanji</td>\n",
       "      <td>3.0</td>\n",
       "    </tr>\n",
       "    <tr>\n",
       "      <th>1</th>\n",
       "      <td>Beautiful Mind, A</td>\n",
       "      <td>4.5</td>\n",
       "    </tr>\n",
       "    <tr>\n",
       "      <th>2</th>\n",
       "      <td>Avengers, The</td>\n",
       "      <td>5.0</td>\n",
       "    </tr>\n",
       "    <tr>\n",
       "      <th>3</th>\n",
       "      <td>Shutter Island</td>\n",
       "      <td>5.0</td>\n",
       "    </tr>\n",
       "    <tr>\n",
       "      <th>4</th>\n",
       "      <td>3 Idiots</td>\n",
       "      <td>4.0</td>\n",
       "    </tr>\n",
       "    <tr>\n",
       "      <th>5</th>\n",
       "      <td>Exodus: Gods and Kings</td>\n",
       "      <td>4.5</td>\n",
       "    </tr>\n",
       "    <tr>\n",
       "      <th>6</th>\n",
       "      <td>Hobbit: An Unexpected Journey, The</td>\n",
       "      <td>4.5</td>\n",
       "    </tr>\n",
       "    <tr>\n",
       "      <th>7</th>\n",
       "      <td>Kaho Naa... Pyaar Hai</td>\n",
       "      <td>2.0</td>\n",
       "    </tr>\n",
       "    <tr>\n",
       "      <th>8</th>\n",
       "      <td>Lucky: No Time For Love</td>\n",
       "      <td>1.0</td>\n",
       "    </tr>\n",
       "  </tbody>\n",
       "</table>\n",
       "</div>"
      ],
      "text/plain": [
       "                                title  rating\n",
       "0                             Jumanji     3.0\n",
       "1                   Beautiful Mind, A     4.5\n",
       "2                       Avengers, The     5.0\n",
       "3                      Shutter Island     5.0\n",
       "4                            3 Idiots     4.0\n",
       "5              Exodus: Gods and Kings     4.5\n",
       "6  Hobbit: An Unexpected Journey, The     4.5\n",
       "7               Kaho Naa... Pyaar Hai     2.0\n",
       "8             Lucky: No Time For Love     1.0"
      ]
     },
     "execution_count": 36,
     "metadata": {},
     "output_type": "execute_result"
    }
   ],
   "source": [
    "userInput = [\n",
    "            {'title':'Jumanji', 'rating':3},\n",
    "            {'title':'Beautiful Mind, A', 'rating':4.5},\n",
    "            {'title':'Avengers, The', 'rating':5},\n",
    "            {'title':\"Shutter Island\", 'rating':5},\n",
    "            {'title':'3 Idiots', 'rating':4},\n",
    "    {'title':'Exodus: Gods and Kings', 'rating':4.5},\n",
    "    {'title':'Hobbit: An Unexpected Journey, The', 'rating':4.5},\n",
    "    {'title':'Kaho Naa... Pyaar Hai', 'rating':2},\n",
    "    {'title':'Lucky: No Time For Love', 'rating':1}]\n",
    "inputMovies = pd.DataFrame(userInput)\n",
    "inputMovies"
   ]
  },
  {
   "cell_type": "markdown",
   "metadata": {
    "button": false,
    "new_sheet": false,
    "run_control": {
     "read_only": false
    }
   },
   "source": [
    "#### Add movieId to input user\n",
    "\n",
    "With the input complete, let's extract the input movies's ID's from the movies dataframe and add them into it.\n",
    "\n",
    "We can achieve this by first filtering out the rows that contain the input movies' title and then merging this subset with the input dataframe. We also drop unnecessary columns for the input to save memory space.\n"
   ]
  },
  {
   "cell_type": "code",
   "execution_count": 37,
   "metadata": {
    "button": false,
    "new_sheet": false,
    "run_control": {
     "read_only": false
    },
    "scrolled": true
   },
   "outputs": [
    {
     "data": {
      "text/html": [
       "<div>\n",
       "<style scoped>\n",
       "    .dataframe tbody tr th:only-of-type {\n",
       "        vertical-align: middle;\n",
       "    }\n",
       "\n",
       "    .dataframe tbody tr th {\n",
       "        vertical-align: top;\n",
       "    }\n",
       "\n",
       "    .dataframe thead th {\n",
       "        text-align: right;\n",
       "    }\n",
       "</style>\n",
       "<table border=\"1\" class=\"dataframe\">\n",
       "  <thead>\n",
       "    <tr style=\"text-align: right;\">\n",
       "      <th></th>\n",
       "      <th>movieId</th>\n",
       "      <th>title</th>\n",
       "      <th>rating</th>\n",
       "    </tr>\n",
       "  </thead>\n",
       "  <tbody>\n",
       "    <tr>\n",
       "      <th>0</th>\n",
       "      <td>2</td>\n",
       "      <td>Jumanji</td>\n",
       "      <td>3.0</td>\n",
       "    </tr>\n",
       "    <tr>\n",
       "      <th>1</th>\n",
       "      <td>2153</td>\n",
       "      <td>Avengers, The</td>\n",
       "      <td>5.0</td>\n",
       "    </tr>\n",
       "    <tr>\n",
       "      <th>2</th>\n",
       "      <td>89745</td>\n",
       "      <td>Avengers, The</td>\n",
       "      <td>5.0</td>\n",
       "    </tr>\n",
       "    <tr>\n",
       "      <th>3</th>\n",
       "      <td>4995</td>\n",
       "      <td>Beautiful Mind, A</td>\n",
       "      <td>4.5</td>\n",
       "    </tr>\n",
       "    <tr>\n",
       "      <th>4</th>\n",
       "      <td>73881</td>\n",
       "      <td>3 Idiots</td>\n",
       "      <td>4.0</td>\n",
       "    </tr>\n",
       "    <tr>\n",
       "      <th>5</th>\n",
       "      <td>74406</td>\n",
       "      <td>Lucky: No Time For Love</td>\n",
       "      <td>1.0</td>\n",
       "    </tr>\n",
       "    <tr>\n",
       "      <th>6</th>\n",
       "      <td>74458</td>\n",
       "      <td>Shutter Island</td>\n",
       "      <td>5.0</td>\n",
       "    </tr>\n",
       "    <tr>\n",
       "      <th>7</th>\n",
       "      <td>83266</td>\n",
       "      <td>Kaho Naa... Pyaar Hai</td>\n",
       "      <td>2.0</td>\n",
       "    </tr>\n",
       "    <tr>\n",
       "      <th>8</th>\n",
       "      <td>98809</td>\n",
       "      <td>Hobbit: An Unexpected Journey, The</td>\n",
       "      <td>4.5</td>\n",
       "    </tr>\n",
       "    <tr>\n",
       "      <th>9</th>\n",
       "      <td>116887</td>\n",
       "      <td>Exodus: Gods and Kings</td>\n",
       "      <td>4.5</td>\n",
       "    </tr>\n",
       "  </tbody>\n",
       "</table>\n",
       "</div>"
      ],
      "text/plain": [
       "   movieId                               title  rating\n",
       "0        2                             Jumanji     3.0\n",
       "1     2153                       Avengers, The     5.0\n",
       "2    89745                       Avengers, The     5.0\n",
       "3     4995                   Beautiful Mind, A     4.5\n",
       "4    73881                            3 Idiots     4.0\n",
       "5    74406             Lucky: No Time For Love     1.0\n",
       "6    74458                      Shutter Island     5.0\n",
       "7    83266               Kaho Naa... Pyaar Hai     2.0\n",
       "8    98809  Hobbit: An Unexpected Journey, The     4.5\n",
       "9   116887              Exodus: Gods and Kings     4.5"
      ]
     },
     "execution_count": 37,
     "metadata": {},
     "output_type": "execute_result"
    }
   ],
   "source": [
    "#Filtering out the movies by title\n",
    "inputId = movies_df[movies_df['title'].isin(inputMovies['title'].tolist())]\n",
    "#Then merging it so we can get the movieId. It's implicitly merging it by title.\n",
    "inputMovies = pd.merge(inputId, inputMovies)\n",
    "#Dropping information we won't use from the input dataframe\n",
    "inputMovies = inputMovies.drop('year', 1)\n",
    "#Final input dataframe\n",
    "#If a movie you added in above isn't here, then it might not be in the original \n",
    "#dataframe or it might spelled differently, please check capitalisation.\n",
    "inputMovies"
   ]
  },
  {
   "cell_type": "markdown",
   "metadata": {
    "button": false,
    "new_sheet": false,
    "run_control": {
     "read_only": false
    }
   },
   "source": [
    "#### The users who has seen the same movies\n",
    "\n",
    "Now with the movie ID's in our input, we can now get the subset of users that have watched and reviewed the movies in our input.\n"
   ]
  },
  {
   "cell_type": "code",
   "execution_count": 38,
   "metadata": {
    "button": false,
    "new_sheet": false,
    "run_control": {
     "read_only": false
    }
   },
   "outputs": [
    {
     "data": {
      "text/html": [
       "<div>\n",
       "<style scoped>\n",
       "    .dataframe tbody tr th:only-of-type {\n",
       "        vertical-align: middle;\n",
       "    }\n",
       "\n",
       "    .dataframe tbody tr th {\n",
       "        vertical-align: top;\n",
       "    }\n",
       "\n",
       "    .dataframe thead th {\n",
       "        text-align: right;\n",
       "    }\n",
       "</style>\n",
       "<table border=\"1\" class=\"dataframe\">\n",
       "  <thead>\n",
       "    <tr style=\"text-align: right;\">\n",
       "      <th></th>\n",
       "      <th>userId</th>\n",
       "      <th>movieId</th>\n",
       "      <th>rating</th>\n",
       "    </tr>\n",
       "  </thead>\n",
       "  <tbody>\n",
       "    <tr>\n",
       "      <th>479</th>\n",
       "      <td>13</td>\n",
       "      <td>2</td>\n",
       "      <td>2.0</td>\n",
       "    </tr>\n",
       "    <tr>\n",
       "      <th>571</th>\n",
       "      <td>13</td>\n",
       "      <td>2153</td>\n",
       "      <td>1.0</td>\n",
       "    </tr>\n",
       "    <tr>\n",
       "      <th>1027</th>\n",
       "      <td>15</td>\n",
       "      <td>4995</td>\n",
       "      <td>4.5</td>\n",
       "    </tr>\n",
       "    <tr>\n",
       "      <th>1248</th>\n",
       "      <td>17</td>\n",
       "      <td>2</td>\n",
       "      <td>3.0</td>\n",
       "    </tr>\n",
       "    <tr>\n",
       "      <th>1961</th>\n",
       "      <td>17</td>\n",
       "      <td>2153</td>\n",
       "      <td>1.0</td>\n",
       "    </tr>\n",
       "  </tbody>\n",
       "</table>\n",
       "</div>"
      ],
      "text/plain": [
       "      userId  movieId  rating\n",
       "479       13        2     2.0\n",
       "571       13     2153     1.0\n",
       "1027      15     4995     4.5\n",
       "1248      17        2     3.0\n",
       "1961      17     2153     1.0"
      ]
     },
     "execution_count": 38,
     "metadata": {},
     "output_type": "execute_result"
    }
   ],
   "source": [
    "#Filtering out users that have watched movies that the input has watched and storing it\n",
    "userSubset = ratings_df[ratings_df['movieId'].isin(inputMovies['movieId'].tolist())]\n",
    "userSubset.head()"
   ]
  },
  {
   "cell_type": "markdown",
   "metadata": {
    "button": false,
    "new_sheet": false,
    "run_control": {
     "read_only": false
    }
   },
   "source": [
    "We now group up the rows by user ID.\n"
   ]
  },
  {
   "cell_type": "code",
   "execution_count": 41,
   "metadata": {
    "button": false,
    "new_sheet": false,
    "run_control": {
     "read_only": false
    }
   },
   "outputs": [],
   "source": [
    "#Groupby creates several sub dataframes where they all have the same value in the column specified as the parameter\n",
    "userSubsetGroup = userSubset.groupby(['userId'])"
   ]
  },
  {
   "cell_type": "markdown",
   "metadata": {
    "button": false,
    "new_sheet": false,
    "run_control": {
     "read_only": false
    }
   },
   "source": [
    "lets look at one of the users, e.g. the one with userID=1130\n"
   ]
  },
  {
   "cell_type": "code",
   "execution_count": 42,
   "metadata": {
    "button": false,
    "new_sheet": false,
    "run_control": {
     "read_only": false
    }
   },
   "outputs": [
    {
     "data": {
      "text/html": [
       "<div>\n",
       "<style scoped>\n",
       "    .dataframe tbody tr th:only-of-type {\n",
       "        vertical-align: middle;\n",
       "    }\n",
       "\n",
       "    .dataframe tbody tr th {\n",
       "        vertical-align: top;\n",
       "    }\n",
       "\n",
       "    .dataframe thead th {\n",
       "        text-align: right;\n",
       "    }\n",
       "</style>\n",
       "<table border=\"1\" class=\"dataframe\">\n",
       "  <thead>\n",
       "    <tr style=\"text-align: right;\">\n",
       "      <th></th>\n",
       "      <th>userId</th>\n",
       "      <th>movieId</th>\n",
       "      <th>rating</th>\n",
       "    </tr>\n",
       "  </thead>\n",
       "  <tbody>\n",
       "    <tr>\n",
       "      <th>104168</th>\n",
       "      <td>1130</td>\n",
       "      <td>2</td>\n",
       "      <td>4.0</td>\n",
       "    </tr>\n",
       "    <tr>\n",
       "      <th>104743</th>\n",
       "      <td>1130</td>\n",
       "      <td>4995</td>\n",
       "      <td>3.5</td>\n",
       "    </tr>\n",
       "    <tr>\n",
       "      <th>105108</th>\n",
       "      <td>1130</td>\n",
       "      <td>89745</td>\n",
       "      <td>1.5</td>\n",
       "    </tr>\n",
       "  </tbody>\n",
       "</table>\n",
       "</div>"
      ],
      "text/plain": [
       "        userId  movieId  rating\n",
       "104168    1130        2     4.0\n",
       "104743    1130     4995     3.5\n",
       "105108    1130    89745     1.5"
      ]
     },
     "execution_count": 42,
     "metadata": {},
     "output_type": "execute_result"
    }
   ],
   "source": [
    "userSubsetGroup.get_group(1130)"
   ]
  },
  {
   "cell_type": "markdown",
   "metadata": {
    "button": false,
    "new_sheet": false,
    "run_control": {
     "read_only": false
    }
   },
   "source": [
    "Let's also sort these groups so the users that share the most movies in common with the input have higher priority. This provides a richer recommendation since we won't go through every single user.\n"
   ]
  },
  {
   "cell_type": "code",
   "execution_count": 43,
   "metadata": {
    "button": false,
    "new_sheet": false,
    "run_control": {
     "read_only": false
    }
   },
   "outputs": [],
   "source": [
    "#Sorting it so users with movie most in common with the input will have priority\n",
    "userSubsetGroup = sorted(userSubsetGroup,  key=lambda x: len(x[1]), reverse=True)"
   ]
  },
  {
   "cell_type": "markdown",
   "metadata": {
    "button": false,
    "new_sheet": false,
    "run_control": {
     "read_only": false
    }
   },
   "source": [
    "Now lets look at the first user\n"
   ]
  },
  {
   "cell_type": "code",
   "execution_count": 44,
   "metadata": {
    "button": false,
    "new_sheet": false,
    "run_control": {
     "read_only": false
    }
   },
   "outputs": [
    {
     "data": {
      "text/plain": [
       "[(15465,\n",
       "           userId  movieId  rating\n",
       "  1449415   15465        2     3.5\n",
       "  1449652   15465     4995     3.0\n",
       "  1449869   15465    73881     5.0\n",
       "  1449872   15465    74406     2.5\n",
       "  1449874   15465    74458     3.0\n",
       "  1449902   15465    83266     4.0\n",
       "  1449922   15465    89745     5.0\n",
       "  1449947   15465    98809     3.0),\n",
       " (2569,\n",
       "          userId  movieId  rating\n",
       "  233941    2569        2     5.0\n",
       "  234216    2569     4995     5.0\n",
       "  234551    2569    73881     5.0\n",
       "  234554    2569    74458     5.0\n",
       "  234681    2569    89745     5.0\n",
       "  234786    2569    98809     5.0\n",
       "  234948    2569   116887     1.5),\n",
       " (5336,\n",
       "          userId  movieId  rating\n",
       "  499074    5336        2     3.5\n",
       "  499300    5336     4995     3.0\n",
       "  499561    5336    73881     3.5\n",
       "  499565    5336    74458     4.0\n",
       "  499631    5336    89745     3.0\n",
       "  499669    5336    98809     3.0\n",
       "  499722    5336   116887     2.0)]"
      ]
     },
     "execution_count": 44,
     "metadata": {},
     "output_type": "execute_result"
    }
   ],
   "source": [
    "userSubsetGroup[0:3]"
   ]
  },
  {
   "cell_type": "markdown",
   "metadata": {
    "button": false,
    "new_sheet": false,
    "run_control": {
     "read_only": false
    }
   },
   "source": [
    "#### Similarity of users to input user\n",
    "\n",
    "Next, we are going to compare all users (not really all !!!) to our specified user and find the one that is most similar.  \n",
    "we're going to find out how similar each user is to the input through the **Pearson Correlation Coefficient**. It is used to measure the strength of a linear association between two variables. The formula for finding this coefficient between sets X and Y with N values can be seen in the image below. \n",
    "\n",
    "Why Pearson Correlation?\n",
    "\n",
    "Pearson correlation is invariant to scaling, i.e. multiplying all elements by a nonzero constant or adding any constant to all elements. For example, if you have two vectors X and Y,then, pearson(X, Y) == pearson(X, 2 * Y + 3). This is a pretty important property in recommendation systems because for example two users might rate two series of items totally different in terms of absolute rates, but they would be similar users (i.e. with similar ideas) with similar rates in various scales .\n",
    "\n",
    "![alt text](https://wikimedia.org/api/rest_v1/media/math/render/svg/bd1ccc2979b0fd1c1aec96e386f686ae874f9ec0 \"Pearson Correlation\")\n",
    "\n",
    "The values given by the formula vary from r = -1 to r = 1, where 1 forms a direct correlation between the two entities (it means a perfect positive correlation) and -1 forms a perfect negative correlation. \n",
    "\n",
    "In our case, a 1 means that the two users have similar tastes while a -1 means the opposite.\n"
   ]
  },
  {
   "cell_type": "markdown",
   "metadata": {
    "button": false,
    "new_sheet": false,
    "run_control": {
     "read_only": false
    }
   },
   "source": [
    "We will select a subset of users to iterate through. This limit is imposed because we don't want to waste too much time going through every single user.\n"
   ]
  },
  {
   "cell_type": "code",
   "execution_count": 50,
   "metadata": {
    "button": false,
    "new_sheet": false,
    "run_control": {
     "read_only": false
    }
   },
   "outputs": [
    {
     "data": {
      "text/plain": [
       "[(15465,\n",
       "           userId  movieId  rating\n",
       "  1449415   15465        2     3.5\n",
       "  1449652   15465     4995     3.0\n",
       "  1449869   15465    73881     5.0\n",
       "  1449872   15465    74406     2.5\n",
       "  1449874   15465    74458     3.0\n",
       "  1449902   15465    83266     4.0\n",
       "  1449922   15465    89745     5.0\n",
       "  1449947   15465    98809     3.0),\n",
       " (2569,\n",
       "          userId  movieId  rating\n",
       "  233941    2569        2     5.0\n",
       "  234216    2569     4995     5.0\n",
       "  234551    2569    73881     5.0\n",
       "  234554    2569    74458     5.0\n",
       "  234681    2569    89745     5.0\n",
       "  234786    2569    98809     5.0\n",
       "  234948    2569   116887     1.5),\n",
       " (5336,\n",
       "          userId  movieId  rating\n",
       "  499074    5336        2     3.5\n",
       "  499300    5336     4995     3.0\n",
       "  499561    5336    73881     3.5\n",
       "  499565    5336    74458     4.0\n",
       "  499631    5336    89745     3.0\n",
       "  499669    5336    98809     3.0\n",
       "  499722    5336   116887     2.0),\n",
       " (6530,\n",
       "          userId  movieId  rating\n",
       "  611462    6530        2     4.0\n",
       "  612266    6530     2153     2.5\n",
       "  612962    6530     4995     3.5\n",
       "  613904    6530    74458     3.0\n",
       "  614025    6530    89745     3.5\n",
       "  614110    6530    98809     3.5\n",
       "  614219    6530   116887     3.0),\n",
       " (9101,\n",
       "          userId  movieId  rating\n",
       "  842366    9101        2     3.0\n",
       "  842670    9101     2153     2.5\n",
       "  842903    9101     4995     3.5\n",
       "  843171    9101    74458     3.5\n",
       "  843227    9101    89745     3.5\n",
       "  843288    9101    98809     4.0\n",
       "  843412    9101   116887     2.5),\n",
       " (9733,\n",
       "          userId  movieId  rating\n",
       "  893255    9733        2     3.0\n",
       "  893957    9733     2153     2.0\n",
       "  894563    9733     4995     2.0\n",
       "  895294    9733    74458     3.0\n",
       "  895375    9733    89745     3.0\n",
       "  895432    9733    98809     2.5\n",
       "  895522    9733   116887     2.5),\n",
       " (16382,\n",
       "           userId  movieId  rating\n",
       "  1529801   16382        2     3.0\n",
       "  1530699   16382     2153     1.0\n",
       "  1531770   16382     4995     4.0\n",
       "  1534391   16382    74458     4.0\n",
       "  1534828   16382    89745     2.0\n",
       "  1535091   16382    98809     3.5\n",
       "  1535399   16382   116887     3.0),\n",
       " (20640,\n",
       "           userId  movieId  rating\n",
       "  1919978   20640        2     3.0\n",
       "  1920239   20640     4995     5.0\n",
       "  1920550   20640    73881     4.5\n",
       "  1920551   20640    74458     4.0\n",
       "  1920604   20640    89745     4.0\n",
       "  1920642   20640    98809     4.5\n",
       "  1920711   20640   116887     3.0),\n",
       " (38949,\n",
       "           userId  movieId  rating\n",
       "  3598940   38949        2     4.5\n",
       "  3599324   38949     4995     5.0\n",
       "  3599785   38949    73881     1.5\n",
       "  3599789   38949    74458     5.0\n",
       "  3599851   38949    83266     4.5\n",
       "  3599888   38949    89745     3.5\n",
       "  3599978   38949    98809     2.0),\n",
       " (59257,\n",
       "           userId  movieId  rating\n",
       "  5531565   59257        2     3.5\n",
       "  5531842   59257     2153     2.5\n",
       "  5532106   59257     4995     4.5\n",
       "  5532648   59257    74458     4.0\n",
       "  5532763   59257    89745     3.5\n",
       "  5532835   59257    98809     3.5\n",
       "  5532957   59257   116887     3.0),\n",
       " (65856,\n",
       "           userId  movieId  rating\n",
       "  6124162   65856        2     3.0\n",
       "  6124589   65856     2153     2.0\n",
       "  6124990   65856     4995     3.5\n",
       "  6125631   65856    73881     4.0\n",
       "  6125633   65856    74458     4.0\n",
       "  6125716   65856    89745     4.0\n",
       "  6125753   65856    98809     4.0),\n",
       " (74551,\n",
       "           userId  movieId  rating\n",
       "  6953205   74551        2     2.5\n",
       "  6954318   74551     2153     1.0\n",
       "  6955681   74551     4995     4.5\n",
       "  6957195   74551    73881     4.0\n",
       "  6957196   74551    74458     3.5\n",
       "  6957278   74551    89745     4.0\n",
       "  6957338   74551    98809     4.0),\n",
       " (75952,\n",
       "           userId  movieId  rating\n",
       "  7068262   75952        2     4.0\n",
       "  7068370   75952     4995     4.5\n",
       "  7068571   75952    73881     1.5\n",
       "  7068572   75952    74458     4.0\n",
       "  7068650   75952    89745     4.0\n",
       "  7068707   75952    98809     4.0\n",
       "  7068785   75952   116887     3.0),\n",
       " (77738,\n",
       "           userId  movieId  rating\n",
       "  7238737   77738        2     4.0\n",
       "  7238930   77738     2153     3.0\n",
       "  7239105   77738     4995     4.0\n",
       "  7239815   77738    74458     5.0\n",
       "  7240032   77738    89745     4.0\n",
       "  7240181   77738    98809     3.5\n",
       "  7240366   77738   116887     3.5),\n",
       " (96884,\n",
       "           userId  movieId  rating\n",
       "  8968648   96884        2     3.5\n",
       "  8968860   96884     2153     2.0\n",
       "  8969051   96884     4995     4.5\n",
       "  8969572   96884    74458     3.5\n",
       "  8969692   96884    89745     3.5\n",
       "  8969792   96884    98809     5.0\n",
       "  8969924   96884   116887     1.5),\n",
       " (104481,\n",
       "           userId  movieId  rating\n",
       "  9666761  104481        2     1.0\n",
       "  9667325  104481     2153     1.5\n",
       "  9667874  104481     4995     3.5\n",
       "  9668871  104481    73881     3.0\n",
       "  9668875  104481    74458     4.5\n",
       "  9669002  104481    89745     3.0\n",
       "  9669108  104481    98809     4.0),\n",
       " (105787,\n",
       "           userId  movieId  rating\n",
       "  9799905  105787        2     3.5\n",
       "  9800648  105787     4995     5.0\n",
       "  9801633  105787    73881     5.0\n",
       "  9801643  105787    74458     4.5\n",
       "  9801875  105787    89745     4.0\n",
       "  9802036  105787    98809     4.0\n",
       "  9802262  105787   116887     3.0),\n",
       " (113822,\n",
       "            userId  movieId  rating\n",
       "  10545766  113822        2     2.0\n",
       "  10546339  113822     4995     3.0\n",
       "  10546918  113822    73881     2.5\n",
       "  10546923  113822    74458     4.0\n",
       "  10547048  113822    89745     3.5\n",
       "  10547120  113822    98809     3.0\n",
       "  10547255  113822   116887     2.5),\n",
       " (123109,\n",
       "            userId  movieId  rating\n",
       "  11419021  123109        2     4.0\n",
       "  11419266  123109     4995     4.5\n",
       "  11419734  123109    73881     3.0\n",
       "  11419736  123109    74458     5.0\n",
       "  11419825  123109    89745     3.0\n",
       "  11419918  123109    98809     3.5\n",
       "  11420062  123109   116887     1.0),\n",
       " (138819,\n",
       "            userId  movieId  rating\n",
       "  12832500  138819        2     3.0\n",
       "  12832968  138819     2153     1.0\n",
       "  12833382  138819     4995     4.0\n",
       "  12834004  138819    73881     4.5\n",
       "  12834007  138819    74458     3.0\n",
       "  12834123  138819    89745     3.0\n",
       "  12834195  138819    98809     3.0),\n",
       " (147003,\n",
       "            userId  movieId  rating\n",
       "  13611351  147003        2     3.0\n",
       "  13612154  147003     2153     1.0\n",
       "  13612996  147003     4995     4.0\n",
       "  13614340  147003    74458     4.0\n",
       "  13614578  147003    89745     4.5\n",
       "  13614748  147003    98809     4.0\n",
       "  13614967  147003   116887     3.5),\n",
       " (167523,\n",
       "            userId  movieId  rating\n",
       "  15514244  167523        2     2.5\n",
       "  15514840  167523     2153     0.5\n",
       "  15515445  167523     4995     3.5\n",
       "  15516151  167523    74458     3.5\n",
       "  15516268  167523    89745     5.0\n",
       "  15516353  167523    98809     4.0\n",
       "  15516502  167523   116887     3.0),\n",
       " (168834,\n",
       "            userId  movieId  rating\n",
       "  15640109  168834        2     4.0\n",
       "  15640499  168834     2153     1.5\n",
       "  15640797  168834     4995     4.0\n",
       "  15641636  168834    74458     3.0\n",
       "  15641778  168834    89745     5.0\n",
       "  15641889  168834    98809     3.5\n",
       "  15642043  168834   116887     2.5),\n",
       " (177124,\n",
       "            userId  movieId  rating\n",
       "  16401531  177124        2     2.0\n",
       "  16401987  177124     2153     1.0\n",
       "  16402400  177124     4995     4.5\n",
       "  16403031  177124    73881     3.5\n",
       "  16403035  177124    74458     3.0\n",
       "  16403125  177124    89745     3.0\n",
       "  16403145  177124    98809     4.0),\n",
       " (190114,\n",
       "            userId  movieId  rating\n",
       "  17582219  190114        2     2.5\n",
       "  17582884  190114     2153     1.0\n",
       "  17583659  190114     4995     2.5\n",
       "  17584981  190114    73881     3.5\n",
       "  17584989  190114    74458     3.5\n",
       "  17585195  190114    89745     4.0\n",
       "  17585316  190114    98809     3.5),\n",
       " (191568,\n",
       "            userId  movieId  rating\n",
       "  17726828  191568        2     3.0\n",
       "  17727160  191568     2153     3.5\n",
       "  17727446  191568     4995     4.0\n",
       "  17727972  191568    73881     4.5\n",
       "  17727975  191568    74458     3.5\n",
       "  17728091  191568    89745     4.5\n",
       "  17728160  191568    98809     4.5),\n",
       " (193091,\n",
       "            userId  movieId  rating\n",
       "  17867950  193091        2     3.5\n",
       "  17868237  193091     2153     3.0\n",
       "  17868473  193091     4995     4.0\n",
       "  17869122  193091    74458     4.5\n",
       "  17869269  193091    89745     4.5\n",
       "  17869367  193091    98809     4.0\n",
       "  17869516  193091   116887     3.0),\n",
       " (199909,\n",
       "            userId  movieId  rating\n",
       "  18487125  199909        2     3.0\n",
       "  18487495  199909     2153     1.5\n",
       "  18487803  199909     4995     3.5\n",
       "  18488319  199909    73881     0.5\n",
       "  18488442  199909    89745     2.5\n",
       "  18488521  199909    98809     3.5\n",
       "  18488664  199909   116887     2.0),\n",
       " (216996,\n",
       "            userId  movieId  rating\n",
       "  20081697  216996        2     4.0\n",
       "  20081900  216996     2153     0.5\n",
       "  20082074  216996     4995     4.0\n",
       "  20082392  216996    74458     2.5\n",
       "  20082430  216996    89745     4.0\n",
       "  20082465  216996    98809     3.0\n",
       "  20082540  216996   116887     3.0),\n",
       " (234563,\n",
       "            userId  movieId  rating\n",
       "  21692219  234563        2     3.0\n",
       "  21692697  234563     4995     4.0\n",
       "  21693142  234563    73881     2.5\n",
       "  21693146  234563    74458     3.0\n",
       "  21693294  234563    89745     3.5\n",
       "  21693381  234563    98809     4.5\n",
       "  21693522  234563   116887     1.5),\n",
       " (236365,\n",
       "            userId  movieId  rating\n",
       "  21853185  236365        2     3.0\n",
       "  21853445  236365     4995     3.5\n",
       "  21853775  236365    73881     3.0\n",
       "  21853776  236365    74406     3.5\n",
       "  21853777  236365    74458     4.5\n",
       "  21853846  236365    89745     4.0\n",
       "  21853904  236365    98809     4.0),\n",
       " (551,\n",
       "         userId  movieId  rating\n",
       "  48487     551     4995     5.0\n",
       "  48554     551    73881     2.0\n",
       "  48555     551    74458     5.0\n",
       "  48600     551    89745     1.0\n",
       "  48660     551    98809     1.5\n",
       "  48821     551   116887     1.5),\n",
       " (815,\n",
       "         userId  movieId  rating\n",
       "  73748     815        2     3.0\n",
       "  74788     815     2153     1.5\n",
       "  75965     815     4995     3.5\n",
       "  77836     815    74458     3.5\n",
       "  78097     815    89745     3.5\n",
       "  78277     815    98809     3.0),\n",
       " (1204,\n",
       "          userId  movieId  rating\n",
       "  110819    1204        2     3.5\n",
       "  111300    1204     2153     3.0\n",
       "  111734    1204     4995     2.5\n",
       "  112080    1204    74458     3.5\n",
       "  112111    1204    89745     4.0\n",
       "  112136    1204    98809     4.0),\n",
       " (1502,\n",
       "          userId  movieId  rating\n",
       "  133877    1502        2     3.5\n",
       "  134161    1502     2153     1.0\n",
       "  134394    1502     4995     4.5\n",
       "  134684    1502    74458     5.0\n",
       "  134708    1502    89745     3.0\n",
       "  134732    1502    98809     4.0),\n",
       " (3734,\n",
       "          userId  movieId  rating\n",
       "  340016    3734        2     4.0\n",
       "  340575    3734     2153     1.0\n",
       "  341231    3734     4995     3.0\n",
       "  342106    3734    89745     4.0\n",
       "  342176    3734    98809     3.5\n",
       "  342288    3734   116887     2.5),\n",
       " (4208,\n",
       "          userId  movieId  rating\n",
       "  387005    4208        2     2.0\n",
       "  388172    4208     4995     4.0\n",
       "  389743    4208    74458     3.0\n",
       "  389972    4208    89745     3.0\n",
       "  390142    4208    98809     3.0\n",
       "  390375    4208   116887     1.5),\n",
       " (4663,\n",
       "          userId  movieId  rating\n",
       "  433861    4663        2     4.0\n",
       "  434081    4663     2153     3.0\n",
       "  434224    4663     4995     4.0\n",
       "  434484    4663    74458     4.5\n",
       "  434512    4663    89745     4.0\n",
       "  434533    4663    98809     4.0),\n",
       " (5630,\n",
       "          userId  movieId  rating\n",
       "  523133    5630        2     3.5\n",
       "  523305    5630     4995     3.0\n",
       "  523581    5630    74458     4.0\n",
       "  523669    5630    89745     3.0\n",
       "  523754    5630    98809     2.0\n",
       "  523948    5630   116887     2.5),\n",
       " (6701,\n",
       "          userId  movieId  rating\n",
       "  628512    6701        2     4.0\n",
       "  628886    6701     2153     2.0\n",
       "  629199    6701     4995     4.5\n",
       "  629710    6701    74458     4.0\n",
       "  629821    6701    89745     4.0\n",
       "  629989    6701   116887     3.0),\n",
       " (8863,\n",
       "          userId  movieId  rating\n",
       "  816676    8863        2     3.0\n",
       "  817317    8863     4995     4.0\n",
       "  817729    8863    74458     4.0\n",
       "  817803    8863    89745     5.0\n",
       "  817844    8863    98809     4.5\n",
       "  817916    8863   116887     3.0),\n",
       " (9030,\n",
       "          userId  movieId  rating\n",
       "  833032    9030        2     2.5\n",
       "  833260    9030     2153     1.5\n",
       "  833445    9030     4995     2.5\n",
       "  833733    9030    74458     4.0\n",
       "  833781    9030    89745     4.5\n",
       "  833819    9030    98809     3.5),\n",
       " (10298,\n",
       "          userId  movieId  rating\n",
       "  953592   10298        2     3.0\n",
       "  954061   10298     4995     5.0\n",
       "  954497   10298    74458     3.0\n",
       "  954559   10298    89745     2.5\n",
       "  954605   10298    98809     2.5\n",
       "  954681   10298   116887     3.0),\n",
       " (11357,\n",
       "           userId  movieId  rating\n",
       "  1052289   11357        2     3.0\n",
       "  1052692   11357     2153     0.5\n",
       "  1053113   11357     4995     2.0\n",
       "  1053710   11357    74458     4.0\n",
       "  1053823   11357    89745     5.0\n",
       "  1053914   11357    98809     4.0),\n",
       " (11905,\n",
       "           userId  movieId  rating\n",
       "  1111015   11905        2     4.0\n",
       "  1111472   11905     2153     2.5\n",
       "  1111899   11905     4995     3.5\n",
       "  1112252   11905    74458     3.0\n",
       "  1112317   11905    89745     4.5\n",
       "  1112445   11905    98809     3.5),\n",
       " (14815,\n",
       "           userId  movieId  rating\n",
       "  1386284   14815     4995     1.5\n",
       "  1386786   14815    73881     0.5\n",
       "  1386790   14815    74458     4.5\n",
       "  1386918   14815    89745     3.0\n",
       "  1387011   14815    98809     4.5\n",
       "  1387189   14815   116887     1.0),\n",
       " (15010,\n",
       "           userId  movieId  rating\n",
       "  1403119   15010        2     3.5\n",
       "  1403846   15010     4995     4.5\n",
       "  1404402   15010    74458     4.5\n",
       "  1404505   15010    89745     5.0\n",
       "  1404585   15010    98809     4.5\n",
       "  1404720   15010   116887     2.0),\n",
       " (15017,\n",
       "           userId  movieId  rating\n",
       "  1404983   15017        2     3.0\n",
       "  1405133   15017     4995     5.0\n",
       "  1405319   15017    74458     4.0\n",
       "  1405367   15017    89745     4.5\n",
       "  1405404   15017    98809     1.5\n",
       "  1405481   15017   116887     3.0),\n",
       " (15030,\n",
       "           userId  movieId  rating\n",
       "  1406118   15030        2     2.5\n",
       "  1406699   15030     4995     4.0\n",
       "  1407157   15030    74458     3.5\n",
       "  1407243   15030    89745     3.5\n",
       "  1407301   15030    98809     4.0\n",
       "  1407376   15030   116887     3.5),\n",
       " (22398,\n",
       "           userId  movieId  rating\n",
       "  2073531   22398        2     2.0\n",
       "  2073866   22398     2153     1.0\n",
       "  2074105   22398     4995     3.5\n",
       "  2074565   22398    74458     4.0\n",
       "  2074618   22398    89745     3.0\n",
       "  2074657   22398    98809     5.0),\n",
       " (22883,\n",
       "           userId  movieId  rating\n",
       "  2116474   22883        2     3.0\n",
       "  2116831   22883     2153     1.0\n",
       "  2117177   22883     4995     3.5\n",
       "  2117473   22883    74458     4.0\n",
       "  2117486   22883    89745     4.0\n",
       "  2117492   22883    98809     4.0),\n",
       " (23534,\n",
       "           userId  movieId  rating\n",
       "  2188028   23534        2     4.0\n",
       "  2188429   23534     4995     5.0\n",
       "  2188770   23534    73881     4.0\n",
       "  2188773   23534    74458     4.5\n",
       "  2188880   23534    89745     4.5\n",
       "  2188933   23534    98809     4.5),\n",
       " (24641,\n",
       "           userId  movieId  rating\n",
       "  2288418   24641     4995     5.0\n",
       "  2288647   24641    73881     4.0\n",
       "  2288650   24641    74458     5.0\n",
       "  2288722   24641    89745     3.0\n",
       "  2288780   24641    98809     3.0\n",
       "  2288970   24641   116887     5.0),\n",
       " (30663,\n",
       "           userId  movieId  rating\n",
       "  2820816   30663        2     3.5\n",
       "  2821185   30663     4995     5.0\n",
       "  2821792   30663    73881     4.0\n",
       "  2821795   30663    74458     3.0\n",
       "  2821893   30663    89745     4.5\n",
       "  2821951   30663    98809     4.0),\n",
       " (32298,\n",
       "           userId  movieId  rating\n",
       "  2978229   32298        2     1.0\n",
       "  2978870   32298     4995     5.0\n",
       "  2979425   32298    73881     5.0\n",
       "  2979428   32298    74458     3.0\n",
       "  2979524   32298    89745     1.0\n",
       "  2979588   32298    98809     4.0),\n",
       " (35743,\n",
       "           userId  movieId  rating\n",
       "  3283964   35743        2     4.0\n",
       "  3284331   35743     2153     2.0\n",
       "  3284767   35743     4995     4.0\n",
       "  3286031   35743    74458     3.5\n",
       "  3286297   35743    89745     4.0\n",
       "  3286481   35743    98809     4.0),\n",
       " (35974,\n",
       "           userId  movieId  rating\n",
       "  3313008   35974        2     1.5\n",
       "  3313127   35974     4995     5.0\n",
       "  3313348   35974    73881     4.0\n",
       "  3313351   35974    74458     4.5\n",
       "  3313403   35974    89745     4.5\n",
       "  3313424   35974    98809     3.5),\n",
       " (36946,\n",
       "           userId  movieId  rating\n",
       "  3402636   36946        2     3.0\n",
       "  3403494   36946     2153     0.5\n",
       "  3404458   36946     4995     5.0\n",
       "  3406111   36946    74458     0.5\n",
       "  3406328   36946    89745     4.0\n",
       "  3406489   36946    98809     1.5),\n",
       " (37333,\n",
       "           userId  movieId  rating\n",
       "  3447194   37333     4995     4.0\n",
       "  3447770   37333    73881     4.5\n",
       "  3447776   37333    74458     3.5\n",
       "  3448005   37333    89745     4.5\n",
       "  3448169   37333    98809     4.5\n",
       "  3448281   37333   116887     3.0),\n",
       " (38154,\n",
       "           userId  movieId  rating\n",
       "  3522262   38154        2     1.0\n",
       "  3523483   38154     4995     3.0\n",
       "  3524914   38154    74458     3.5\n",
       "  3525095   38154    89745     3.5\n",
       "  3525211   38154    98809     3.0\n",
       "  3525268   38154   116887     3.0),\n",
       " (38939,\n",
       "           userId  movieId  rating\n",
       "  3596590   38939        2     4.5\n",
       "  3597145   38939     4995     4.0\n",
       "  3598182   38939    73881     3.0\n",
       "  3598185   38939    74458     3.5\n",
       "  3598355   38939    89745     5.0\n",
       "  3598507   38939    98809     3.5),\n",
       " (39721,\n",
       "           userId  movieId  rating\n",
       "  3676715   39721        2     3.0\n",
       "  3677068   39721     2153     1.5\n",
       "  3677374   39721     4995     4.5\n",
       "  3677926   39721    74458     4.0\n",
       "  3678028   39721    89745     4.0\n",
       "  3678127   39721    98809     4.0),\n",
       " (39994,\n",
       "           userId  movieId  rating\n",
       "  3698779   39994        2     2.0\n",
       "  3699237   39994     4995     2.5\n",
       "  3699621   39994    74458     5.0\n",
       "  3699662   39994    89745     5.0\n",
       "  3699692   39994    98809     3.0\n",
       "  3699778   39994   116887     3.0),\n",
       " (40336,\n",
       "           userId  movieId  rating\n",
       "  3734399   40336        2     4.5\n",
       "  3734845   40336     4995     5.0\n",
       "  3735248   40336    74458     5.0\n",
       "  3735387   40336    89745     4.5\n",
       "  3735471   40336    98809     4.5\n",
       "  3735511   40336   116887     3.0),\n",
       " (41005,\n",
       "           userId  movieId  rating\n",
       "  3797049   41005        2     3.0\n",
       "  3797272   41005     4995     5.0\n",
       "  3797543   41005    73881     5.0\n",
       "  3797544   41005    74458     4.5\n",
       "  3797595   41005    89745     4.0\n",
       "  3797640   41005    98809     4.5),\n",
       " (41455,\n",
       "           userId  movieId  rating\n",
       "  3833543   41455        2     2.0\n",
       "  3834273   41455     4995     5.0\n",
       "  3835259   41455    73881     3.5\n",
       "  3835267   41455    74458     3.5\n",
       "  3835416   41455    89745     3.0\n",
       "  3835487   41455    98809     3.0),\n",
       " (41890,\n",
       "           userId  movieId  rating\n",
       "  3877399   41890        2     2.0\n",
       "  3877730   41890     2153     1.0\n",
       "  3877982   41890     4995     4.0\n",
       "  3878249   41890    74458     3.0\n",
       "  3878291   41890    89745     3.0\n",
       "  3878322   41890    98809     2.5),\n",
       " (44027,\n",
       "           userId  movieId  rating\n",
       "  4065582   44027        2     2.0\n",
       "  4065993   44027     2153     0.5\n",
       "  4066283   44027     4995     4.5\n",
       "  4066726   44027    74458     4.0\n",
       "  4066825   44027    89745     4.5\n",
       "  4066892   44027    98809     3.0),\n",
       " (45123,\n",
       "           userId  movieId  rating\n",
       "  4177821   45123        2     4.0\n",
       "  4178334   45123     2153     1.0\n",
       "  4178736   45123     4995     4.5\n",
       "  4179411   45123    74458     3.5\n",
       "  4179498   45123    89745     4.5\n",
       "  4179548   45123    98809     4.0),\n",
       " (45221,\n",
       "           userId  movieId  rating\n",
       "  4188192   45221        2     2.0\n",
       "  4188761   45221     2153     3.0\n",
       "  4189255   45221     4995     4.0\n",
       "  4190134   45221    73881     4.5\n",
       "  4190386   45221    89745     3.5\n",
       "  4190583   45221    98809     3.5),\n",
       " (47648,\n",
       "           userId  movieId  rating\n",
       "  4412116   47648        2     2.0\n",
       "  4412607   47648     2153     2.5\n",
       "  4413118   47648     4995     2.5\n",
       "  4414156   47648    74458     2.5\n",
       "  4414297   47648    89745     4.0\n",
       "  4414419   47648    98809     3.5),\n",
       " (47897,\n",
       "           userId  movieId  rating\n",
       "  4438638   47897        2     2.0\n",
       "  4439915   47897     4995     4.0\n",
       "  4440614   47897    74458     3.0\n",
       "  4440709   47897    89745     4.0\n",
       "  4440757   47897    98809     3.5\n",
       "  4440826   47897   116887     2.5),\n",
       " (48087,\n",
       "           userId  movieId  rating\n",
       "  4459067   48087        2     4.0\n",
       "  4459338   48087     4995     4.5\n",
       "  4459561   48087    74458     4.5\n",
       "  4459588   48087    89745     4.0\n",
       "  4459603   48087    98809     5.0\n",
       "  4459613   48087   116887     3.5),\n",
       " (48098,\n",
       "           userId  movieId  rating\n",
       "  4460090   48098        2     2.5\n",
       "  4460634   48098     4995     4.0\n",
       "  4461154   48098    73881     3.5\n",
       "  4461156   48098    74458     4.0\n",
       "  4461260   48098    89745     4.0\n",
       "  4461343   48098    98809     3.5),\n",
       " (49324,\n",
       "           userId  movieId  rating\n",
       "  4583923   49324        2     4.0\n",
       "  4584348   49324     2153     3.0\n",
       "  4584892   49324     4995     4.0\n",
       "  4585344   49324    89745     5.0\n",
       "  4585358   49324    98809     4.5\n",
       "  4585433   49324   116887     4.0),\n",
       " (50313,\n",
       "           userId  movieId  rating\n",
       "  4677917   50313        2     2.0\n",
       "  4678559   50313     2153     1.0\n",
       "  4679209   50313     4995     4.0\n",
       "  4680379   50313    74458     4.0\n",
       "  4680551   50313    89745     4.5\n",
       "  4680657   50313    98809     4.0),\n",
       " (50738,\n",
       "           userId  movieId  rating\n",
       "  4725882   50738        2     3.0\n",
       "  4726765   50738     2153     1.0\n",
       "  4727666   50738     4995     4.0\n",
       "  4729204   50738    74458     2.0\n",
       "  4729391   50738    89745     4.0\n",
       "  4729510   50738    98809     3.5),\n",
       " (50880,\n",
       "           userId  movieId  rating\n",
       "  4741537   50880        2     3.0\n",
       "  4741736   50880     2153     2.0\n",
       "  4741934   50880     4995     4.0\n",
       "  4742294   50880    74458     4.0\n",
       "  4742360   50880    89745     2.5\n",
       "  4742402   50880    98809     3.0),\n",
       " (51033,\n",
       "           userId  movieId  rating\n",
       "  4759268   51033        2     2.5\n",
       "  4759722   51033     2153     3.0\n",
       "  4760164   51033     4995     3.5\n",
       "  4760951   51033    74458     3.0\n",
       "  4761077   51033    89745     4.0\n",
       "  4761160   51033    98809     4.0),\n",
       " (54133,\n",
       "           userId  movieId  rating\n",
       "  5048877   54133        2     3.5\n",
       "  5049188   54133     4995     4.5\n",
       "  5049587   54133    73881     4.5\n",
       "  5049594   54133    74458     5.0\n",
       "  5049722   54133    89745     4.0\n",
       "  5049797   54133    98809     4.5),\n",
       " (57117,\n",
       "           userId  movieId  rating\n",
       "  5327658   57117        2     3.5\n",
       "  5328221   57117     2153     2.5\n",
       "  5328898   57117     4995     3.5\n",
       "  5329977   57117    74458     4.5\n",
       "  5330061   57117    89745     3.0\n",
       "  5330111   57117    98809     3.5),\n",
       " (57474,\n",
       "           userId  movieId  rating\n",
       "  5362332   57474        2     2.5\n",
       "  5362754   57474     2153     2.0\n",
       "  5363077   57474     4995     4.5\n",
       "  5363353   57474    74458     4.0\n",
       "  5363379   57474    89745     4.0\n",
       "  5363390   57474    98809     2.0),\n",
       " (58040,\n",
       "           userId  movieId  rating\n",
       "  5418002   58040        2     0.5\n",
       "  5419181   58040     2153     1.0\n",
       "  5420549   58040     4995     2.0\n",
       "  5422891   58040    74458     3.0\n",
       "  5423149   58040    89745     3.0\n",
       "  5423316   58040    98809     5.0),\n",
       " (59489,\n",
       "           userId  movieId  rating\n",
       "  5553057   59489        2     2.5\n",
       "  5555001   59489     4995     4.5\n",
       "  5556686   59489    74458     3.0\n",
       "  5556909   59489    89745     3.5\n",
       "  5557046   59489    98809     3.5\n",
       "  5557227   59489   116887     3.0),\n",
       " (60734,\n",
       "           userId  movieId  rating\n",
       "  5671548   60734        2     4.5\n",
       "  5671756   60734     4995     5.0\n",
       "  5671979   60734    73881     1.5\n",
       "  5671980   60734    74458     5.0\n",
       "  5672041   60734    89745     4.0\n",
       "  5672078   60734    98809     5.0),\n",
       " (61991,\n",
       "           userId  movieId  rating\n",
       "  5787009   61991        2     3.5\n",
       "  5787532   61991     4995     3.0\n",
       "  5787989   61991    74458     4.0\n",
       "  5788075   61991    89745     4.0\n",
       "  5788181   61991    98809     3.5\n",
       "  5788328   61991   116887     4.0),\n",
       " (63839,\n",
       "           userId  movieId  rating\n",
       "  5955508   63839        2     2.5\n",
       "  5956455   63839     2153     2.0\n",
       "  5957318   63839     4995     2.0\n",
       "  5958379   63839    74458     3.0\n",
       "  5958526   63839    89745     3.0\n",
       "  5958630   63839    98809     3.5),\n",
       " (64169,\n",
       "           userId  movieId  rating\n",
       "  5985970   64169        2     2.5\n",
       "  5986326   64169     4995     3.5\n",
       "  5986640   64169    73881     1.0\n",
       "  5986642   64169    74458     4.0\n",
       "  5986699   64169    89745     5.0\n",
       "  5986731   64169    98809     3.5),\n",
       " (65407,\n",
       "           userId  movieId  rating\n",
       "  6091314   65407        2     3.0\n",
       "  6091390   65407     4995     5.0\n",
       "  6091455   65407    73881     5.0\n",
       "  6091456   65407    74458     4.5\n",
       "  6091469   65407    89745     5.0\n",
       "  6091480   65407    98809     2.5),\n",
       " (67204,\n",
       "           userId  movieId  rating\n",
       "  6243083   67204        2     1.5\n",
       "  6243987   67204     4995     3.0\n",
       "  6244674   67204    73881     1.5\n",
       "  6244678   67204    74458     3.5\n",
       "  6244809   67204    89745     2.0\n",
       "  6244891   67204    98809     2.0),\n",
       " (67776,\n",
       "           userId  movieId  rating\n",
       "  6301151   67776        2     2.0\n",
       "  6301675   67776     2153     1.0\n",
       "  6302163   67776     4995     2.5\n",
       "  6302984   67776    74458     3.5\n",
       "  6303119   67776    89745     0.5\n",
       "  6303238   67776    98809     5.0),\n",
       " (68765,\n",
       "           userId  movieId  rating\n",
       "  6402774   68765        2     2.0\n",
       "  6403316   68765     4995     3.0\n",
       "  6403685   68765    74458     2.0\n",
       "  6403803   68765    89745     3.5\n",
       "  6403905   68765    98809     0.5\n",
       "  6404068   68765   116887     0.5),\n",
       " (70088,\n",
       "           userId  movieId  rating\n",
       "  6527479   70088        2     2.5\n",
       "  6527872   70088     2153     3.0\n",
       "  6528337   70088     4995     5.0\n",
       "  6529664   70088    74458     3.5\n",
       "  6529830   70088    89745     3.0\n",
       "  6529911   70088    98809     3.5),\n",
       " (71115,\n",
       "           userId  movieId  rating\n",
       "  6622280   71115     4995     4.0\n",
       "  6622540   71115    73881     4.0\n",
       "  6622541   71115    74458     4.0\n",
       "  6622618   71115    89745     4.0\n",
       "  6622703   71115    98809     4.0\n",
       "  6622856   71115   116887     3.5),\n",
       " (71137,\n",
       "           userId  movieId  rating\n",
       "  6624311   71137        2     2.5\n",
       "  6624540   71137     4995     4.0\n",
       "  6624777   71137    73881     4.5\n",
       "  6624781   71137    74458     3.5\n",
       "  6624817   71137    83266     3.0\n",
       "  6624839   71137    89745     4.5),\n",
       " (71740,\n",
       "           userId  movieId  rating\n",
       "  6682730   71740        2     3.0\n",
       "  6683075   71740     4995     3.5\n",
       "  6683373   71740    74458     4.0\n",
       "  6683432   71740    89745     1.5\n",
       "  6683471   71740    98809     4.0\n",
       "  6683531   71740   116887     2.0),\n",
       " (73406,\n",
       "           userId  movieId  rating\n",
       "  6834477   73406        2     4.0\n",
       "  6834702   73406     4995     4.5\n",
       "  6834955   73406    74458     4.5\n",
       "  6835013   73406    89745     2.0\n",
       "  6835057   73406    98809     3.0\n",
       "  6835172   73406   116887     0.5),\n",
       " (73419,\n",
       "           userId  movieId  rating\n",
       "  6836850   73419        2     4.0\n",
       "  6837817   73419     4995     0.5\n",
       "  6838580   73419    73881     0.5\n",
       "  6838584   73419    74458     0.5\n",
       "  6838670   73419    89745     5.0\n",
       "  6838732   73419    98809     0.5),\n",
       " (74234,\n",
       "           userId  movieId  rating\n",
       "  6921176   74234        2     4.5\n",
       "  6921474   74234     2153     3.0\n",
       "  6921703   74234     4995     4.5\n",
       "  6921959   74234    74458     4.0\n",
       "  6921988   74234    89745     3.5\n",
       "  6922014   74234    98809     3.5),\n",
       " (74293,\n",
       "           userId  movieId  rating\n",
       "  6927991   74293        2     3.0\n",
       "  6928389   74293     2153     3.0\n",
       "  6928840   74293     4995     4.0\n",
       "  6929535   74293    74458     3.0\n",
       "  6929634   74293    89745     3.0\n",
       "  6929676   74293    98809     4.0)]"
      ]
     },
     "execution_count": 50,
     "metadata": {},
     "output_type": "execute_result"
    }
   ],
   "source": [
    "userSubsetGroup = userSubsetGroup[0:100]"
   ]
  },
  {
   "cell_type": "markdown",
   "metadata": {
    "button": false,
    "new_sheet": false,
    "run_control": {
     "read_only": false
    }
   },
   "source": [
    "Now, we calculate the Pearson Correlation between input user and subset group, and store it in a dictionary, where the key is the user Id and the value is the coefficient\n"
   ]
  },
  {
   "cell_type": "code",
   "execution_count": 49,
   "metadata": {
    "button": false,
    "new_sheet": false,
    "run_control": {
     "read_only": false
    },
    "scrolled": true
   },
   "outputs": [],
   "source": [
    "#Store the Pearson Correlation in a dictionary, where the key is the user Id and the value is the coefficient\n",
    "pearsonCorrelationDict = {}\n",
    "\n",
    "#For every user group in our subset\n",
    "for name, group in userSubsetGroup:\n",
    "    #Let's start by sorting the input and current user group so the values aren't mixed up later on\n",
    "    group = group.sort_values(by='movieId')\n",
    "    inputMovies = inputMovies.sort_values(by='movieId')\n",
    "    #Get the N for the formula\n",
    "    nRatings = len(group)\n",
    "    #Get the review scores for the movies that they both have in common\n",
    "    temp_df = inputMovies[inputMovies['movieId'].isin(group['movieId'].tolist())]\n",
    "    #And then store them in a temporary buffer variable in a list format to facilitate future calculations\n",
    "    tempRatingList = temp_df['rating'].tolist()\n",
    "    #Let's also put the current user group reviews in a list format\n",
    "    tempGroupList = group['rating'].tolist()\n",
    "    #Now let's calculate the pearson correlation between two users, so called, x and y\n",
    "    Sxx = sum([i**2 for i in tempRatingList]) - pow(sum(tempRatingList),2)/float(nRatings)\n",
    "    Syy = sum([i**2 for i in tempGroupList]) - pow(sum(tempGroupList),2)/float(nRatings)\n",
    "    Sxy = sum( i*j for i, j in zip(tempRatingList, tempGroupList)) - sum(tempRatingList)*sum(tempGroupList)/float(nRatings)\n",
    "    \n",
    "    #If the denominator is different than zero, then divide, else, 0 correlation.\n",
    "    if Sxx != 0 and Syy != 0:\n",
    "        pearsonCorrelationDict[name] = Sxy/sqrt(Sxx*Syy)\n",
    "    else:\n",
    "        pearsonCorrelationDict[name] = 0\n"
   ]
  },
  {
   "cell_type": "code",
   "execution_count": 51,
   "metadata": {},
   "outputs": [
    {
     "data": {
      "text/plain": [
       "dict_items([(15465, 0.2903957073134519), (2569, -0.09128709291752762), (5336, -0.1376204706407964), (6530, -0.7245688373094714), (9101, 0.1039349274103872), (9733, -0.2619684159977918), (16382, -0.214952600500776), (20640, 0.3952847075210471), (38949, -0.15536386656646634), (59257, -0.09128709291752768), (65856, 0.0745355992499929), (74551, 0.03346747203760445), (75952, 0.19494325729098247), (77738, 0.0), (96884, -0.14155623595918085), (104481, 0.5304841172860961), (105787, 0.20756952180649757), (113822, 0.8720815992723808), (123109, -0.013222147133698247), (138819, -0.35599532759198627), (147003, 0.05036101551853351), (167523, 0.12575075750089215), (168834, -0.2574643252722186), (177124, 0.04782867026529589), (190114, 0.04794633014853699), (191568, 0.3614486980061222), (193091, 0.27785946511310555), (199909, -0.0856868310168405), (216996, -0.468292905790847), (234563, 0.15714681654815396), (236365, 0.4994995272059494), (551, 0.193065573489583), (815, -0.08333333333333333), (1204, 0.0), (1502, -0.13693063937629152), (3734, -0.4766748733793748), (4208, 0.42443949318447044), (4663, -0.13130643285972282), (5630, -0.09607689228305237), (6701, -0.2814390178921169), (8863, 0.6643482831758059), (9030, 0.2896422231817461), (10298, -0.0486504255410534), (11357, 0.03971507353947688), (11905, -0.3651483716701107), (14815, 0.6790438640176091), (15010, 0.3721042037676257), (15017, 0.3222516933177451), (15030, 0.7442084075352514), (22398, 0.18070158058105024), (22883, 0.0), (23534, 0.6470588235294178), (24641, -0.045037734911102106), (30663, 0.187867287325545), (32298, 0.16893237680338422), (35743, -0.40291148201269045), (35974, 0.8667476936546006), (36946, -0.2743977362280141), (37333, -0.2100420126042022), (38154, 0.9973337235915678), (38939, -0.030082841879807684), (39721, 0.05892556509887897), (39994, 0.7865026952607851), (40336, 0.0769230769230753), (41005, 0.5588235294117639), (41455, 0.4954150840221489), (41890, 0.12649110640673514), (44027, 0.24293289905367477), (45123, -0.29346959282671115), (45221, 0.4370483222197038), (47648, 0.5144957554275263), (47897, 0.6933752452815353), (48087, 0.1943250826893889), (48098, 0.9469425238482126), (49324, 0.017037481092401607), (50313, 0.3215206485222378), (50738, -0.21504133222818808), (50880, -0.080582296402538), (51033, 0.5330017908890268), (54133, 0.6859943405700346), (57117, -0.09712858623572651), (57474, 0.2867696673382022), (58040, 0.4368658089342457), (59489, 0.4640954808922599), (60734, 0.22687130324325872), (61991, 0.38829013735765866), (63839, 0.10660035817780515), (64169, 0.6790997501017328), (65407, 0.45246144833466606), (67204, 0.6467616667635551), (67776, -0.07796811755854503), (68765, 0.15502665587976874), (70088, 0.2998126755983448), (71115, 0.10846522890934202), (71137, 0.6800204009180456), (71740, -0.06477502756312963), (73406, -0.20596403902624552), (73419, -0.21190435947906439), (74234, -0.6396021490668321), (74293, 0.0)])"
      ]
     },
     "execution_count": 51,
     "metadata": {},
     "output_type": "execute_result"
    }
   ],
   "source": [
    "pearsonCorrelationDict.items()"
   ]
  },
  {
   "cell_type": "code",
   "execution_count": 52,
   "metadata": {},
   "outputs": [
    {
     "data": {
      "text/html": [
       "<div>\n",
       "<style scoped>\n",
       "    .dataframe tbody tr th:only-of-type {\n",
       "        vertical-align: middle;\n",
       "    }\n",
       "\n",
       "    .dataframe tbody tr th {\n",
       "        vertical-align: top;\n",
       "    }\n",
       "\n",
       "    .dataframe thead th {\n",
       "        text-align: right;\n",
       "    }\n",
       "</style>\n",
       "<table border=\"1\" class=\"dataframe\">\n",
       "  <thead>\n",
       "    <tr style=\"text-align: right;\">\n",
       "      <th></th>\n",
       "      <th>similarityIndex</th>\n",
       "      <th>userId</th>\n",
       "    </tr>\n",
       "  </thead>\n",
       "  <tbody>\n",
       "    <tr>\n",
       "      <th>0</th>\n",
       "      <td>0.290396</td>\n",
       "      <td>15465</td>\n",
       "    </tr>\n",
       "    <tr>\n",
       "      <th>1</th>\n",
       "      <td>-0.091287</td>\n",
       "      <td>2569</td>\n",
       "    </tr>\n",
       "    <tr>\n",
       "      <th>2</th>\n",
       "      <td>-0.137620</td>\n",
       "      <td>5336</td>\n",
       "    </tr>\n",
       "    <tr>\n",
       "      <th>3</th>\n",
       "      <td>-0.724569</td>\n",
       "      <td>6530</td>\n",
       "    </tr>\n",
       "    <tr>\n",
       "      <th>4</th>\n",
       "      <td>0.103935</td>\n",
       "      <td>9101</td>\n",
       "    </tr>\n",
       "  </tbody>\n",
       "</table>\n",
       "</div>"
      ],
      "text/plain": [
       "   similarityIndex  userId\n",
       "0         0.290396   15465\n",
       "1        -0.091287    2569\n",
       "2        -0.137620    5336\n",
       "3        -0.724569    6530\n",
       "4         0.103935    9101"
      ]
     },
     "execution_count": 52,
     "metadata": {},
     "output_type": "execute_result"
    }
   ],
   "source": [
    "pearsonDF = pd.DataFrame.from_dict(pearsonCorrelationDict, orient='index')\n",
    "pearsonDF.columns = ['similarityIndex']\n",
    "pearsonDF['userId'] = pearsonDF.index\n",
    "pearsonDF.index = range(len(pearsonDF))\n",
    "pearsonDF.head()"
   ]
  },
  {
   "cell_type": "markdown",
   "metadata": {
    "button": false,
    "new_sheet": false,
    "run_control": {
     "read_only": false
    }
   },
   "source": [
    "#### The top x similar users to input user\n",
    "\n",
    "Now let's get the top 50 users that are most similar to the input.\n"
   ]
  },
  {
   "cell_type": "code",
   "execution_count": 55,
   "metadata": {
    "button": false,
    "new_sheet": false,
    "run_control": {
     "read_only": false
    }
   },
   "outputs": [
    {
     "data": {
      "text/html": [
       "<div>\n",
       "<style scoped>\n",
       "    .dataframe tbody tr th:only-of-type {\n",
       "        vertical-align: middle;\n",
       "    }\n",
       "\n",
       "    .dataframe tbody tr th {\n",
       "        vertical-align: top;\n",
       "    }\n",
       "\n",
       "    .dataframe thead th {\n",
       "        text-align: right;\n",
       "    }\n",
       "</style>\n",
       "<table border=\"1\" class=\"dataframe\">\n",
       "  <thead>\n",
       "    <tr style=\"text-align: right;\">\n",
       "      <th></th>\n",
       "      <th>similarityIndex</th>\n",
       "      <th>userId</th>\n",
       "    </tr>\n",
       "  </thead>\n",
       "  <tbody>\n",
       "    <tr>\n",
       "      <th>59</th>\n",
       "      <td>0.997334</td>\n",
       "      <td>38154</td>\n",
       "    </tr>\n",
       "    <tr>\n",
       "      <th>73</th>\n",
       "      <td>0.946943</td>\n",
       "      <td>48098</td>\n",
       "    </tr>\n",
       "    <tr>\n",
       "      <th>17</th>\n",
       "      <td>0.872082</td>\n",
       "      <td>113822</td>\n",
       "    </tr>\n",
       "    <tr>\n",
       "      <th>56</th>\n",
       "      <td>0.866748</td>\n",
       "      <td>35974</td>\n",
       "    </tr>\n",
       "    <tr>\n",
       "      <th>62</th>\n",
       "      <td>0.786503</td>\n",
       "      <td>39994</td>\n",
       "    </tr>\n",
       "  </tbody>\n",
       "</table>\n",
       "</div>"
      ],
      "text/plain": [
       "    similarityIndex  userId\n",
       "59         0.997334   38154\n",
       "73         0.946943   48098\n",
       "17         0.872082  113822\n",
       "56         0.866748   35974\n",
       "62         0.786503   39994"
      ]
     },
     "execution_count": 55,
     "metadata": {},
     "output_type": "execute_result"
    }
   ],
   "source": [
    "topUsers=pearsonDF.sort_values(by='similarityIndex', ascending=False)[0:50]\n",
    "topUsers.head()"
   ]
  },
  {
   "cell_type": "markdown",
   "metadata": {
    "button": false,
    "new_sheet": false,
    "run_control": {
     "read_only": false
    }
   },
   "source": [
    "Now, let's start recommending movies to the input user.\n",
    "\n",
    "#### Rating of selected users to all movies\n",
    "\n",
    "We're going to do this by taking the weighted average of the ratings of the movies using the Pearson Correlation as the weight. But to do this, we first need to get the movies watched by the users in our **pearsonDF** from the ratings dataframe and then store their correlation in a new column called _similarityIndex\". This is achieved below by merging of these two tables.\n"
   ]
  },
  {
   "cell_type": "code",
   "execution_count": 56,
   "metadata": {
    "button": false,
    "new_sheet": false,
    "run_control": {
     "read_only": false
    },
    "scrolled": true
   },
   "outputs": [
    {
     "data": {
      "text/html": [
       "<div>\n",
       "<style scoped>\n",
       "    .dataframe tbody tr th:only-of-type {\n",
       "        vertical-align: middle;\n",
       "    }\n",
       "\n",
       "    .dataframe tbody tr th {\n",
       "        vertical-align: top;\n",
       "    }\n",
       "\n",
       "    .dataframe thead th {\n",
       "        text-align: right;\n",
       "    }\n",
       "</style>\n",
       "<table border=\"1\" class=\"dataframe\">\n",
       "  <thead>\n",
       "    <tr style=\"text-align: right;\">\n",
       "      <th></th>\n",
       "      <th>similarityIndex</th>\n",
       "      <th>userId</th>\n",
       "      <th>movieId</th>\n",
       "      <th>rating</th>\n",
       "    </tr>\n",
       "  </thead>\n",
       "  <tbody>\n",
       "    <tr>\n",
       "      <th>0</th>\n",
       "      <td>0.997334</td>\n",
       "      <td>38154</td>\n",
       "      <td>1</td>\n",
       "      <td>4.5</td>\n",
       "    </tr>\n",
       "    <tr>\n",
       "      <th>1</th>\n",
       "      <td>0.997334</td>\n",
       "      <td>38154</td>\n",
       "      <td>2</td>\n",
       "      <td>1.0</td>\n",
       "    </tr>\n",
       "    <tr>\n",
       "      <th>2</th>\n",
       "      <td>0.997334</td>\n",
       "      <td>38154</td>\n",
       "      <td>6</td>\n",
       "      <td>2.0</td>\n",
       "    </tr>\n",
       "    <tr>\n",
       "      <th>3</th>\n",
       "      <td>0.997334</td>\n",
       "      <td>38154</td>\n",
       "      <td>10</td>\n",
       "      <td>3.0</td>\n",
       "    </tr>\n",
       "    <tr>\n",
       "      <th>4</th>\n",
       "      <td>0.997334</td>\n",
       "      <td>38154</td>\n",
       "      <td>12</td>\n",
       "      <td>2.0</td>\n",
       "    </tr>\n",
       "  </tbody>\n",
       "</table>\n",
       "</div>"
      ],
      "text/plain": [
       "   similarityIndex  userId  movieId  rating\n",
       "0         0.997334   38154        1     4.5\n",
       "1         0.997334   38154        2     1.0\n",
       "2         0.997334   38154        6     2.0\n",
       "3         0.997334   38154       10     3.0\n",
       "4         0.997334   38154       12     2.0"
      ]
     },
     "execution_count": 56,
     "metadata": {},
     "output_type": "execute_result"
    }
   ],
   "source": [
    "topUsersRating=topUsers.merge(ratings_df, left_on='userId', right_on='userId', how='inner')\n",
    "topUsersRating.head()"
   ]
  },
  {
   "cell_type": "markdown",
   "metadata": {
    "button": false,
    "new_sheet": false,
    "run_control": {
     "read_only": false
    }
   },
   "source": [
    "Now all we need to do is simply multiply the movie rating by its weight (The similarity index), then sum up the new ratings and divide it by the sum of the weights.\n",
    "\n",
    "We can easily do this by simply multiplying two columns, then grouping up the dataframe by movieId and then dividing two columns:\n",
    "\n",
    "It shows the idea of all similar users to candidate movies for the input user:\n"
   ]
  },
  {
   "cell_type": "code",
   "execution_count": 57,
   "metadata": {
    "button": false,
    "new_sheet": false,
    "run_control": {
     "read_only": false
    }
   },
   "outputs": [
    {
     "data": {
      "text/html": [
       "<div>\n",
       "<style scoped>\n",
       "    .dataframe tbody tr th:only-of-type {\n",
       "        vertical-align: middle;\n",
       "    }\n",
       "\n",
       "    .dataframe tbody tr th {\n",
       "        vertical-align: top;\n",
       "    }\n",
       "\n",
       "    .dataframe thead th {\n",
       "        text-align: right;\n",
       "    }\n",
       "</style>\n",
       "<table border=\"1\" class=\"dataframe\">\n",
       "  <thead>\n",
       "    <tr style=\"text-align: right;\">\n",
       "      <th></th>\n",
       "      <th>similarityIndex</th>\n",
       "      <th>userId</th>\n",
       "      <th>movieId</th>\n",
       "      <th>rating</th>\n",
       "      <th>weightedRating</th>\n",
       "    </tr>\n",
       "  </thead>\n",
       "  <tbody>\n",
       "    <tr>\n",
       "      <th>0</th>\n",
       "      <td>0.997334</td>\n",
       "      <td>38154</td>\n",
       "      <td>1</td>\n",
       "      <td>4.5</td>\n",
       "      <td>4.488002</td>\n",
       "    </tr>\n",
       "    <tr>\n",
       "      <th>1</th>\n",
       "      <td>0.997334</td>\n",
       "      <td>38154</td>\n",
       "      <td>2</td>\n",
       "      <td>1.0</td>\n",
       "      <td>0.997334</td>\n",
       "    </tr>\n",
       "    <tr>\n",
       "      <th>2</th>\n",
       "      <td>0.997334</td>\n",
       "      <td>38154</td>\n",
       "      <td>6</td>\n",
       "      <td>2.0</td>\n",
       "      <td>1.994667</td>\n",
       "    </tr>\n",
       "    <tr>\n",
       "      <th>3</th>\n",
       "      <td>0.997334</td>\n",
       "      <td>38154</td>\n",
       "      <td>10</td>\n",
       "      <td>3.0</td>\n",
       "      <td>2.992001</td>\n",
       "    </tr>\n",
       "    <tr>\n",
       "      <th>4</th>\n",
       "      <td>0.997334</td>\n",
       "      <td>38154</td>\n",
       "      <td>12</td>\n",
       "      <td>2.0</td>\n",
       "      <td>1.994667</td>\n",
       "    </tr>\n",
       "  </tbody>\n",
       "</table>\n",
       "</div>"
      ],
      "text/plain": [
       "   similarityIndex  userId  movieId  rating  weightedRating\n",
       "0         0.997334   38154        1     4.5        4.488002\n",
       "1         0.997334   38154        2     1.0        0.997334\n",
       "2         0.997334   38154        6     2.0        1.994667\n",
       "3         0.997334   38154       10     3.0        2.992001\n",
       "4         0.997334   38154       12     2.0        1.994667"
      ]
     },
     "execution_count": 57,
     "metadata": {},
     "output_type": "execute_result"
    }
   ],
   "source": [
    "#Multiplies the similarity by the user's ratings\n",
    "topUsersRating['weightedRating'] = topUsersRating['similarityIndex']*topUsersRating['rating']\n",
    "topUsersRating.head()"
   ]
  },
  {
   "cell_type": "code",
   "execution_count": 66,
   "metadata": {
    "button": false,
    "new_sheet": false,
    "run_control": {
     "read_only": false
    }
   },
   "outputs": [
    {
     "data": {
      "text/html": [
       "<div>\n",
       "<style scoped>\n",
       "    .dataframe tbody tr th:only-of-type {\n",
       "        vertical-align: middle;\n",
       "    }\n",
       "\n",
       "    .dataframe tbody tr th {\n",
       "        vertical-align: top;\n",
       "    }\n",
       "\n",
       "    .dataframe thead th {\n",
       "        text-align: right;\n",
       "    }\n",
       "</style>\n",
       "<table border=\"1\" class=\"dataframe\">\n",
       "  <thead>\n",
       "    <tr style=\"text-align: right;\">\n",
       "      <th></th>\n",
       "      <th>sum_similarityIndex</th>\n",
       "      <th>sum_weightedRating</th>\n",
       "    </tr>\n",
       "    <tr>\n",
       "      <th>movieId</th>\n",
       "      <th></th>\n",
       "      <th></th>\n",
       "    </tr>\n",
       "  </thead>\n",
       "  <tbody>\n",
       "    <tr>\n",
       "      <th>1</th>\n",
       "      <td>18.903303</td>\n",
       "      <td>72.390673</td>\n",
       "    </tr>\n",
       "    <tr>\n",
       "      <th>2</th>\n",
       "      <td>21.031044</td>\n",
       "      <td>51.144174</td>\n",
       "    </tr>\n",
       "    <tr>\n",
       "      <th>3</th>\n",
       "      <td>4.327274</td>\n",
       "      <td>9.914274</td>\n",
       "    </tr>\n",
       "    <tr>\n",
       "      <th>4</th>\n",
       "      <td>0.900961</td>\n",
       "      <td>1.146624</td>\n",
       "    </tr>\n",
       "    <tr>\n",
       "      <th>5</th>\n",
       "      <td>5.498452</td>\n",
       "      <td>14.751086</td>\n",
       "    </tr>\n",
       "  </tbody>\n",
       "</table>\n",
       "</div>"
      ],
      "text/plain": [
       "         sum_similarityIndex  sum_weightedRating\n",
       "movieId                                         \n",
       "1                  18.903303           72.390673\n",
       "2                  21.031044           51.144174\n",
       "3                   4.327274            9.914274\n",
       "4                   0.900961            1.146624\n",
       "5                   5.498452           14.751086"
      ]
     },
     "execution_count": 66,
     "metadata": {},
     "output_type": "execute_result"
    }
   ],
   "source": [
    "#Applies a sum to the topUsers after grouping it up by userId\n",
    "tempTopUsersRating = topUsersRating.groupby('movieId').sum()[['similarityIndex','weightedRating']]\n",
    "tempTopUsersRating.columns = ['sum_similarityIndex','sum_weightedRating']\n",
    "tempTopUsersRating.head()"
   ]
  },
  {
   "cell_type": "code",
   "execution_count": 82,
   "metadata": {
    "button": false,
    "new_sheet": false,
    "run_control": {
     "read_only": false
    }
   },
   "outputs": [
    {
     "data": {
      "text/html": [
       "<div>\n",
       "<style scoped>\n",
       "    .dataframe tbody tr th:only-of-type {\n",
       "        vertical-align: middle;\n",
       "    }\n",
       "\n",
       "    .dataframe tbody tr th {\n",
       "        vertical-align: top;\n",
       "    }\n",
       "\n",
       "    .dataframe thead th {\n",
       "        text-align: right;\n",
       "    }\n",
       "</style>\n",
       "<table border=\"1\" class=\"dataframe\">\n",
       "  <thead>\n",
       "    <tr style=\"text-align: right;\">\n",
       "      <th></th>\n",
       "      <th>weighted average recommendation score</th>\n",
       "      <th>movieId</th>\n",
       "    </tr>\n",
       "    <tr>\n",
       "      <th>movieId</th>\n",
       "      <th></th>\n",
       "      <th></th>\n",
       "    </tr>\n",
       "  </thead>\n",
       "  <tbody>\n",
       "    <tr>\n",
       "      <th>1</th>\n",
       "      <td>3.829525</td>\n",
       "      <td>1</td>\n",
       "    </tr>\n",
       "    <tr>\n",
       "      <th>2</th>\n",
       "      <td>2.431842</td>\n",
       "      <td>2</td>\n",
       "    </tr>\n",
       "    <tr>\n",
       "      <th>3</th>\n",
       "      <td>2.291113</td>\n",
       "      <td>3</td>\n",
       "    </tr>\n",
       "    <tr>\n",
       "      <th>4</th>\n",
       "      <td>1.272667</td>\n",
       "      <td>4</td>\n",
       "    </tr>\n",
       "    <tr>\n",
       "      <th>5</th>\n",
       "      <td>2.682771</td>\n",
       "      <td>5</td>\n",
       "    </tr>\n",
       "  </tbody>\n",
       "</table>\n",
       "</div>"
      ],
      "text/plain": [
       "         weighted average recommendation score  movieId\n",
       "movieId                                                \n",
       "1                                     3.829525        1\n",
       "2                                     2.431842        2\n",
       "3                                     2.291113        3\n",
       "4                                     1.272667        4\n",
       "5                                     2.682771        5"
      ]
     },
     "execution_count": 82,
     "metadata": {},
     "output_type": "execute_result"
    }
   ],
   "source": [
    "#Creates an empty dataframe\n",
    "recommendation_df = pd.DataFrame()\n",
    "#Now we take the weighted average\n",
    "recommendation_df['weighted average recommendation score'] = tempTopUsersRating['sum_weightedRating']/tempTopUsersRating['sum_similarityIndex']\n",
    "recommendation_df['movieId'] = tempTopUsersRating.index\n",
    "recommendation_df.head()"
   ]
  },
  {
   "cell_type": "markdown",
   "metadata": {
    "button": false,
    "new_sheet": false,
    "run_control": {
     "read_only": false
    }
   },
   "source": [
    "Now let's sort it and see the top 20 movies that the algorithm recommended!\n"
   ]
  },
  {
   "cell_type": "code",
   "execution_count": 83,
   "metadata": {
    "button": false,
    "new_sheet": false,
    "run_control": {
     "read_only": false
    }
   },
   "outputs": [
    {
     "data": {
      "text/html": [
       "<div>\n",
       "<style scoped>\n",
       "    .dataframe tbody tr th:only-of-type {\n",
       "        vertical-align: middle;\n",
       "    }\n",
       "\n",
       "    .dataframe tbody tr th {\n",
       "        vertical-align: top;\n",
       "    }\n",
       "\n",
       "    .dataframe thead th {\n",
       "        text-align: right;\n",
       "    }\n",
       "</style>\n",
       "<table border=\"1\" class=\"dataframe\">\n",
       "  <thead>\n",
       "    <tr style=\"text-align: right;\">\n",
       "      <th></th>\n",
       "      <th>weighted average recommendation score</th>\n",
       "      <th>movieId</th>\n",
       "    </tr>\n",
       "    <tr>\n",
       "      <th>movieId</th>\n",
       "      <th></th>\n",
       "      <th></th>\n",
       "    </tr>\n",
       "  </thead>\n",
       "  <tbody>\n",
       "    <tr>\n",
       "      <th>26702</th>\n",
       "      <td>5.0</td>\n",
       "      <td>26702</td>\n",
       "    </tr>\n",
       "    <tr>\n",
       "      <th>4704</th>\n",
       "      <td>5.0</td>\n",
       "      <td>4704</td>\n",
       "    </tr>\n",
       "    <tr>\n",
       "      <th>3847</th>\n",
       "      <td>5.0</td>\n",
       "      <td>3847</td>\n",
       "    </tr>\n",
       "    <tr>\n",
       "      <th>5244</th>\n",
       "      <td>5.0</td>\n",
       "      <td>5244</td>\n",
       "    </tr>\n",
       "    <tr>\n",
       "      <th>3777</th>\n",
       "      <td>5.0</td>\n",
       "      <td>3777</td>\n",
       "    </tr>\n",
       "    <tr>\n",
       "      <th>7650</th>\n",
       "      <td>5.0</td>\n",
       "      <td>7650</td>\n",
       "    </tr>\n",
       "    <tr>\n",
       "      <th>3970</th>\n",
       "      <td>5.0</td>\n",
       "      <td>3970</td>\n",
       "    </tr>\n",
       "    <tr>\n",
       "      <th>4863</th>\n",
       "      <td>5.0</td>\n",
       "      <td>4863</td>\n",
       "    </tr>\n",
       "    <tr>\n",
       "      <th>5641</th>\n",
       "      <td>5.0</td>\n",
       "      <td>5641</td>\n",
       "    </tr>\n",
       "    <tr>\n",
       "      <th>5780</th>\n",
       "      <td>5.0</td>\n",
       "      <td>5780</td>\n",
       "    </tr>\n",
       "  </tbody>\n",
       "</table>\n",
       "</div>"
      ],
      "text/plain": [
       "         weighted average recommendation score  movieId\n",
       "movieId                                                \n",
       "26702                                      5.0    26702\n",
       "4704                                       5.0     4704\n",
       "3847                                       5.0     3847\n",
       "5244                                       5.0     5244\n",
       "3777                                       5.0     3777\n",
       "7650                                       5.0     7650\n",
       "3970                                       5.0     3970\n",
       "4863                                       5.0     4863\n",
       "5641                                       5.0     5641\n",
       "5780                                       5.0     5780"
      ]
     },
     "execution_count": 83,
     "metadata": {},
     "output_type": "execute_result"
    }
   ],
   "source": [
    "recommendation_df = recommendation_df.sort_values(by='weighted average recommendation score', ascending=False)\n",
    "recommendation_df.head(10)"
   ]
  },
  {
   "cell_type": "code",
   "execution_count": 84,
   "metadata": {
    "button": false,
    "new_sheet": false,
    "run_control": {
     "read_only": false
    },
    "scrolled": true
   },
   "outputs": [
    {
     "data": {
      "text/html": [
       "<div>\n",
       "<style scoped>\n",
       "    .dataframe tbody tr th:only-of-type {\n",
       "        vertical-align: middle;\n",
       "    }\n",
       "\n",
       "    .dataframe tbody tr th {\n",
       "        vertical-align: top;\n",
       "    }\n",
       "\n",
       "    .dataframe thead th {\n",
       "        text-align: right;\n",
       "    }\n",
       "</style>\n",
       "<table border=\"1\" class=\"dataframe\">\n",
       "  <thead>\n",
       "    <tr style=\"text-align: right;\">\n",
       "      <th></th>\n",
       "      <th>movieId</th>\n",
       "      <th>title</th>\n",
       "      <th>year</th>\n",
       "    </tr>\n",
       "  </thead>\n",
       "  <tbody>\n",
       "    <tr>\n",
       "      <th>3687</th>\n",
       "      <td>3777</td>\n",
       "      <td>Nekromantik</td>\n",
       "      <td>1987</td>\n",
       "    </tr>\n",
       "    <tr>\n",
       "      <th>3755</th>\n",
       "      <td>3847</td>\n",
       "      <td>Ilsa, She Wolf of the SS</td>\n",
       "      <td>1974</td>\n",
       "    </tr>\n",
       "    <tr>\n",
       "      <th>3877</th>\n",
       "      <td>3970</td>\n",
       "      <td>Beyond, The (E tu vivrai nel terrore - L'aldilà)</td>\n",
       "      <td>1981</td>\n",
       "    </tr>\n",
       "    <tr>\n",
       "      <th>4610</th>\n",
       "      <td>4704</td>\n",
       "      <td>Hatari!</td>\n",
       "      <td>1962</td>\n",
       "    </tr>\n",
       "    <tr>\n",
       "      <th>4768</th>\n",
       "      <td>4863</td>\n",
       "      <td>Female Trouble</td>\n",
       "      <td>1975</td>\n",
       "    </tr>\n",
       "    <tr>\n",
       "      <th>5148</th>\n",
       "      <td>5244</td>\n",
       "      <td>Shogun Assassin</td>\n",
       "      <td>1980</td>\n",
       "    </tr>\n",
       "    <tr>\n",
       "      <th>5543</th>\n",
       "      <td>5641</td>\n",
       "      <td>Moderns, The</td>\n",
       "      <td>1988</td>\n",
       "    </tr>\n",
       "    <tr>\n",
       "      <th>5682</th>\n",
       "      <td>5780</td>\n",
       "      <td>Polyester</td>\n",
       "      <td>1981</td>\n",
       "    </tr>\n",
       "    <tr>\n",
       "      <th>7415</th>\n",
       "      <td>7650</td>\n",
       "      <td>Witchfinder General (Conquerer Worm, The)</td>\n",
       "      <td>1968</td>\n",
       "    </tr>\n",
       "    <tr>\n",
       "      <th>9001</th>\n",
       "      <td>26702</td>\n",
       "      <td>Reflecting Skin, The</td>\n",
       "      <td>1990</td>\n",
       "    </tr>\n",
       "  </tbody>\n",
       "</table>\n",
       "</div>"
      ],
      "text/plain": [
       "      movieId                                             title  year\n",
       "3687     3777                                       Nekromantik  1987\n",
       "3755     3847                          Ilsa, She Wolf of the SS  1974\n",
       "3877     3970  Beyond, The (E tu vivrai nel terrore - L'aldilà)  1981\n",
       "4610     4704                                           Hatari!  1962\n",
       "4768     4863                                    Female Trouble  1975\n",
       "5148     5244                                   Shogun Assassin  1980\n",
       "5543     5641                                      Moderns, The  1988\n",
       "5682     5780                                         Polyester  1981\n",
       "7415     7650         Witchfinder General (Conquerer Worm, The)  1968\n",
       "9001    26702                              Reflecting Skin, The  1990"
      ]
     },
     "execution_count": 84,
     "metadata": {},
     "output_type": "execute_result"
    }
   ],
   "source": [
    "movies_df.loc[movies_df['movieId'].isin(recommendation_df.head(10)['movieId'].tolist())]"
   ]
  },
  {
   "cell_type": "markdown",
   "metadata": {
    "button": false,
    "new_sheet": false,
    "run_control": {
     "read_only": false
    }
   },
   "source": [
    "### Advantages and Disadvantages of Collaborative Filtering\n",
    "\n",
    "##### Advantages\n",
    "\n",
    "-   Takes other user's ratings into consideration\n",
    "-   Doesn't need to study or extract information from the recommended item\n",
    "-   Adapts to the user's interests which might change over time\n",
    "\n",
    "##### Disadvantages\n",
    "\n",
    "-   Approximation function can be slow\n",
    "-   There might be a low of amount of users to approximate\n",
    "-   Privacy issues when trying to learn the user's preferences\n"
   ]
  },
  {
   "cell_type": "markdown",
   "metadata": {
    "button": false,
    "new_sheet": false,
    "run_control": {
     "read_only": false
    }
   },
   "source": [
    "<h2>Want to learn more?</h2>\n",
    "\n",
    "IBM SPSS Modeler is a comprehensive analytics platform that has many machine learning algorithms. It has been designed to bring predictive intelligence to decisions made by individuals, by groups, by systems – by your enterprise as a whole. A free trial is available through this course, available here: <a href=\"https://www.ibm.com/analytics/spss-statistics-software\">SPSS Modeler</a>\n",
    "\n",
    "Also, you can use Watson Studio to run these notebooks faster with bigger datasets. Watson Studio is IBM's leading cloud solution for data scientists, built by data scientists. With Jupyter notebooks, RStudio, Apache Spark and popular libraries pre-packaged in the cloud, Watson Studio enables data scientists to collaborate on their projects without having to install anything. Join the fast-growing community of Watson Studio users today with a free account at <a href=\"https://www.ibm.com/cloud/watson-studio\">Watson Studio</a>\n"
   ]
  },
  {
   "cell_type": "markdown",
   "metadata": {},
   "source": [
    "### Thank you for completing this lab!\n",
    "\n",
    "## Author\n",
    "\n",
    "Saeed Aghabozorgi\n",
    "\n",
    "### Other Contributors\n",
    "\n",
    "<a href=\"https://www.linkedin.com/in/joseph-s-50398b136/\" target=\"_blank\">Joseph Santarcangelo</a>\n",
    "\n",
    "## Change Log\n",
    "\n",
    "| Date (YYYY-MM-DD) | Version | Changed By | Change Description                 |\n",
    "| ----------------- | ------- | ---------- | ---------------------------------- |\n",
    "| 2020-11-03        | 2.1     | Lakshmi    | Updated URL of csv                 |\n",
    "| 2020-08-27        | 2.0     | Lavanya    | Moved lab to course repo in GitLab |\n",
    "|                   |         |            |                                    |\n",
    "|                   |         |            |                                    |\n",
    "\n",
    "## <h3 align=\"center\"> © IBM Corporation 2020. All rights reserved. <h3/>\n"
   ]
  }
 ],
 "metadata": {
  "kernelspec": {
   "display_name": "Python",
   "language": "python",
   "name": "conda-env-python-py"
  },
  "language_info": {
   "codemirror_mode": {
    "name": "ipython",
    "version": 3
   },
   "file_extension": ".py",
   "mimetype": "text/x-python",
   "name": "python",
   "nbconvert_exporter": "python",
   "pygments_lexer": "ipython3",
   "version": "3.6.11"
  },
  "widgets": {
   "state": {},
   "version": "1.1.2"
  }
 },
 "nbformat": 4,
 "nbformat_minor": 4
}
